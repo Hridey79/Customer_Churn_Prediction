{
 "cells": [
  {
   "cell_type": "code",
   "execution_count": 1,
   "id": "71b86f54-71ef-4383-ac85-c8796648e614",
   "metadata": {},
   "outputs": [],
   "source": [
    "import numpy as np\n",
    "import pandas as pd\n",
    "import matplotlib.pyplot as plt\n",
    "%matplotlib inline"
   ]
  },
  {
   "cell_type": "code",
   "execution_count": 2,
   "id": "437efe7f-32fc-4076-88d5-8f4d3cca7406",
   "metadata": {},
   "outputs": [],
   "source": [
    "df=pd.read_csv('dataset/train.csv')"
   ]
  },
  {
   "cell_type": "code",
   "execution_count": 3,
   "id": "ded7aab5-75cd-4862-a82d-35afb4c5ef17",
   "metadata": {},
   "outputs": [
    {
     "data": {
      "text/html": [
       "<div>\n",
       "<style scoped>\n",
       "    .dataframe tbody tr th:only-of-type {\n",
       "        vertical-align: middle;\n",
       "    }\n",
       "\n",
       "    .dataframe tbody tr th {\n",
       "        vertical-align: top;\n",
       "    }\n",
       "\n",
       "    .dataframe thead th {\n",
       "        text-align: right;\n",
       "    }\n",
       "</style>\n",
       "<table border=\"1\" class=\"dataframe\">\n",
       "  <thead>\n",
       "    <tr style=\"text-align: right;\">\n",
       "      <th></th>\n",
       "      <th>customer_id</th>\n",
       "      <th>Name</th>\n",
       "      <th>age</th>\n",
       "      <th>gender</th>\n",
       "      <th>security_no</th>\n",
       "      <th>region_category</th>\n",
       "      <th>membership_category</th>\n",
       "      <th>joining_date</th>\n",
       "      <th>joined_through_referral</th>\n",
       "      <th>referral_id</th>\n",
       "      <th>...</th>\n",
       "      <th>avg_time_spent</th>\n",
       "      <th>avg_transaction_value</th>\n",
       "      <th>avg_frequency_login_days</th>\n",
       "      <th>points_in_wallet</th>\n",
       "      <th>used_special_discount</th>\n",
       "      <th>offer_application_preference</th>\n",
       "      <th>past_complaint</th>\n",
       "      <th>complaint_status</th>\n",
       "      <th>feedback</th>\n",
       "      <th>churn_risk_score</th>\n",
       "    </tr>\n",
       "  </thead>\n",
       "  <tbody>\n",
       "    <tr>\n",
       "      <th>0</th>\n",
       "      <td>fffe4300490044003600300030003800</td>\n",
       "      <td>Pattie Morrisey</td>\n",
       "      <td>18</td>\n",
       "      <td>F</td>\n",
       "      <td>XW0DQ7H</td>\n",
       "      <td>Village</td>\n",
       "      <td>Platinum Membership</td>\n",
       "      <td>2017-08-17</td>\n",
       "      <td>No</td>\n",
       "      <td>xxxxxxxx</td>\n",
       "      <td>...</td>\n",
       "      <td>300.63</td>\n",
       "      <td>53005.25</td>\n",
       "      <td>17.0</td>\n",
       "      <td>781.75</td>\n",
       "      <td>Yes</td>\n",
       "      <td>Yes</td>\n",
       "      <td>No</td>\n",
       "      <td>Not Applicable</td>\n",
       "      <td>Products always in Stock</td>\n",
       "      <td>2</td>\n",
       "    </tr>\n",
       "    <tr>\n",
       "      <th>1</th>\n",
       "      <td>fffe43004900440032003100300035003700</td>\n",
       "      <td>Traci Peery</td>\n",
       "      <td>32</td>\n",
       "      <td>F</td>\n",
       "      <td>5K0N3X1</td>\n",
       "      <td>City</td>\n",
       "      <td>Premium Membership</td>\n",
       "      <td>2017-08-28</td>\n",
       "      <td>?</td>\n",
       "      <td>CID21329</td>\n",
       "      <td>...</td>\n",
       "      <td>306.34</td>\n",
       "      <td>12838.38</td>\n",
       "      <td>10.0</td>\n",
       "      <td>NaN</td>\n",
       "      <td>Yes</td>\n",
       "      <td>No</td>\n",
       "      <td>Yes</td>\n",
       "      <td>Solved</td>\n",
       "      <td>Quality Customer Care</td>\n",
       "      <td>1</td>\n",
       "    </tr>\n",
       "    <tr>\n",
       "      <th>2</th>\n",
       "      <td>fffe4300490044003100390032003600</td>\n",
       "      <td>Merideth Mcmeen</td>\n",
       "      <td>44</td>\n",
       "      <td>F</td>\n",
       "      <td>1F2TCL3</td>\n",
       "      <td>Town</td>\n",
       "      <td>No Membership</td>\n",
       "      <td>2016-11-11</td>\n",
       "      <td>Yes</td>\n",
       "      <td>CID12313</td>\n",
       "      <td>...</td>\n",
       "      <td>516.16</td>\n",
       "      <td>21027.00</td>\n",
       "      <td>22.0</td>\n",
       "      <td>500.69</td>\n",
       "      <td>No</td>\n",
       "      <td>Yes</td>\n",
       "      <td>Yes</td>\n",
       "      <td>Solved in Follow-up</td>\n",
       "      <td>Poor Website</td>\n",
       "      <td>5</td>\n",
       "    </tr>\n",
       "    <tr>\n",
       "      <th>3</th>\n",
       "      <td>fffe43004900440036003000330031003600</td>\n",
       "      <td>Eufemia Cardwell</td>\n",
       "      <td>37</td>\n",
       "      <td>M</td>\n",
       "      <td>VJGJ33N</td>\n",
       "      <td>City</td>\n",
       "      <td>No Membership</td>\n",
       "      <td>2016-10-29</td>\n",
       "      <td>Yes</td>\n",
       "      <td>CID3793</td>\n",
       "      <td>...</td>\n",
       "      <td>53.27</td>\n",
       "      <td>25239.56</td>\n",
       "      <td>6.0</td>\n",
       "      <td>567.66</td>\n",
       "      <td>No</td>\n",
       "      <td>Yes</td>\n",
       "      <td>Yes</td>\n",
       "      <td>Unsolved</td>\n",
       "      <td>Poor Website</td>\n",
       "      <td>5</td>\n",
       "    </tr>\n",
       "    <tr>\n",
       "      <th>4</th>\n",
       "      <td>fffe43004900440031003900350030003600</td>\n",
       "      <td>Meghan Kosak</td>\n",
       "      <td>31</td>\n",
       "      <td>F</td>\n",
       "      <td>SVZXCWB</td>\n",
       "      <td>City</td>\n",
       "      <td>No Membership</td>\n",
       "      <td>2017-09-12</td>\n",
       "      <td>No</td>\n",
       "      <td>xxxxxxxx</td>\n",
       "      <td>...</td>\n",
       "      <td>113.13</td>\n",
       "      <td>24483.66</td>\n",
       "      <td>16.0</td>\n",
       "      <td>663.06</td>\n",
       "      <td>No</td>\n",
       "      <td>Yes</td>\n",
       "      <td>Yes</td>\n",
       "      <td>Solved</td>\n",
       "      <td>Poor Website</td>\n",
       "      <td>5</td>\n",
       "    </tr>\n",
       "  </tbody>\n",
       "</table>\n",
       "<p>5 rows × 25 columns</p>\n",
       "</div>"
      ],
      "text/plain": [
       "                            customer_id              Name  age gender  \\\n",
       "0      fffe4300490044003600300030003800   Pattie Morrisey   18      F   \n",
       "1  fffe43004900440032003100300035003700       Traci Peery   32      F   \n",
       "2      fffe4300490044003100390032003600   Merideth Mcmeen   44      F   \n",
       "3  fffe43004900440036003000330031003600  Eufemia Cardwell   37      M   \n",
       "4  fffe43004900440031003900350030003600      Meghan Kosak   31      F   \n",
       "\n",
       "  security_no region_category  membership_category joining_date  \\\n",
       "0     XW0DQ7H         Village  Platinum Membership   2017-08-17   \n",
       "1     5K0N3X1            City   Premium Membership   2017-08-28   \n",
       "2     1F2TCL3            Town        No Membership   2016-11-11   \n",
       "3     VJGJ33N            City        No Membership   2016-10-29   \n",
       "4     SVZXCWB            City        No Membership   2017-09-12   \n",
       "\n",
       "  joined_through_referral referral_id  ... avg_time_spent  \\\n",
       "0                      No    xxxxxxxx  ...         300.63   \n",
       "1                       ?    CID21329  ...         306.34   \n",
       "2                     Yes    CID12313  ...         516.16   \n",
       "3                     Yes     CID3793  ...          53.27   \n",
       "4                      No    xxxxxxxx  ...         113.13   \n",
       "\n",
       "  avg_transaction_value avg_frequency_login_days points_in_wallet  \\\n",
       "0              53005.25                     17.0           781.75   \n",
       "1              12838.38                     10.0              NaN   \n",
       "2              21027.00                     22.0           500.69   \n",
       "3              25239.56                      6.0           567.66   \n",
       "4              24483.66                     16.0           663.06   \n",
       "\n",
       "   used_special_discount  offer_application_preference  past_complaint  \\\n",
       "0                    Yes                           Yes              No   \n",
       "1                    Yes                            No             Yes   \n",
       "2                     No                           Yes             Yes   \n",
       "3                     No                           Yes             Yes   \n",
       "4                     No                           Yes             Yes   \n",
       "\n",
       "      complaint_status                  feedback churn_risk_score  \n",
       "0       Not Applicable  Products always in Stock                2  \n",
       "1               Solved     Quality Customer Care                1  \n",
       "2  Solved in Follow-up              Poor Website                5  \n",
       "3             Unsolved              Poor Website                5  \n",
       "4               Solved              Poor Website                5  \n",
       "\n",
       "[5 rows x 25 columns]"
      ]
     },
     "execution_count": 3,
     "metadata": {},
     "output_type": "execute_result"
    }
   ],
   "source": [
    "df.head()"
   ]
  },
  {
   "cell_type": "code",
   "execution_count": 4,
   "id": "9fc82c52-5a40-446d-bca8-6850f6a03fb8",
   "metadata": {},
   "outputs": [
    {
     "data": {
      "text/plain": [
       "(36992, 25)"
      ]
     },
     "execution_count": 4,
     "metadata": {},
     "output_type": "execute_result"
    }
   ],
   "source": [
    "df.shape"
   ]
  },
  {
   "cell_type": "code",
   "execution_count": 5,
   "id": "c350504a-0e8b-4d33-8cd3-b42bb34d6f9f",
   "metadata": {},
   "outputs": [
    {
     "data": {
      "text/html": [
       "<div>\n",
       "<style scoped>\n",
       "    .dataframe tbody tr th:only-of-type {\n",
       "        vertical-align: middle;\n",
       "    }\n",
       "\n",
       "    .dataframe tbody tr th {\n",
       "        vertical-align: top;\n",
       "    }\n",
       "\n",
       "    .dataframe thead th {\n",
       "        text-align: right;\n",
       "    }\n",
       "</style>\n",
       "<table border=\"1\" class=\"dataframe\">\n",
       "  <thead>\n",
       "    <tr style=\"text-align: right;\">\n",
       "      <th></th>\n",
       "      <th>age</th>\n",
       "      <th>days_since_last_login</th>\n",
       "      <th>avg_time_spent</th>\n",
       "      <th>avg_transaction_value</th>\n",
       "      <th>points_in_wallet</th>\n",
       "      <th>churn_risk_score</th>\n",
       "    </tr>\n",
       "  </thead>\n",
       "  <tbody>\n",
       "    <tr>\n",
       "      <th>count</th>\n",
       "      <td>36992.000000</td>\n",
       "      <td>36992.000000</td>\n",
       "      <td>36992.000000</td>\n",
       "      <td>36992.000000</td>\n",
       "      <td>33549.000000</td>\n",
       "      <td>36992.000000</td>\n",
       "    </tr>\n",
       "    <tr>\n",
       "      <th>mean</th>\n",
       "      <td>37.118161</td>\n",
       "      <td>-41.915576</td>\n",
       "      <td>243.472334</td>\n",
       "      <td>29271.194003</td>\n",
       "      <td>686.882199</td>\n",
       "      <td>3.463397</td>\n",
       "    </tr>\n",
       "    <tr>\n",
       "      <th>std</th>\n",
       "      <td>15.867412</td>\n",
       "      <td>228.819900</td>\n",
       "      <td>398.289149</td>\n",
       "      <td>19444.806226</td>\n",
       "      <td>194.063624</td>\n",
       "      <td>1.409661</td>\n",
       "    </tr>\n",
       "    <tr>\n",
       "      <th>min</th>\n",
       "      <td>10.000000</td>\n",
       "      <td>-999.000000</td>\n",
       "      <td>-2814.109110</td>\n",
       "      <td>800.460000</td>\n",
       "      <td>-760.661236</td>\n",
       "      <td>-1.000000</td>\n",
       "    </tr>\n",
       "    <tr>\n",
       "      <th>25%</th>\n",
       "      <td>23.000000</td>\n",
       "      <td>8.000000</td>\n",
       "      <td>60.102500</td>\n",
       "      <td>14177.540000</td>\n",
       "      <td>616.150000</td>\n",
       "      <td>3.000000</td>\n",
       "    </tr>\n",
       "    <tr>\n",
       "      <th>50%</th>\n",
       "      <td>37.000000</td>\n",
       "      <td>12.000000</td>\n",
       "      <td>161.765000</td>\n",
       "      <td>27554.485000</td>\n",
       "      <td>697.620000</td>\n",
       "      <td>4.000000</td>\n",
       "    </tr>\n",
       "    <tr>\n",
       "      <th>75%</th>\n",
       "      <td>51.000000</td>\n",
       "      <td>16.000000</td>\n",
       "      <td>356.515000</td>\n",
       "      <td>40855.110000</td>\n",
       "      <td>763.950000</td>\n",
       "      <td>5.000000</td>\n",
       "    </tr>\n",
       "    <tr>\n",
       "      <th>max</th>\n",
       "      <td>64.000000</td>\n",
       "      <td>26.000000</td>\n",
       "      <td>3235.578521</td>\n",
       "      <td>99914.050000</td>\n",
       "      <td>2069.069761</td>\n",
       "      <td>5.000000</td>\n",
       "    </tr>\n",
       "  </tbody>\n",
       "</table>\n",
       "</div>"
      ],
      "text/plain": [
       "                age  days_since_last_login  avg_time_spent  \\\n",
       "count  36992.000000           36992.000000    36992.000000   \n",
       "mean      37.118161             -41.915576      243.472334   \n",
       "std       15.867412             228.819900      398.289149   \n",
       "min       10.000000            -999.000000    -2814.109110   \n",
       "25%       23.000000               8.000000       60.102500   \n",
       "50%       37.000000              12.000000      161.765000   \n",
       "75%       51.000000              16.000000      356.515000   \n",
       "max       64.000000              26.000000     3235.578521   \n",
       "\n",
       "       avg_transaction_value  points_in_wallet  churn_risk_score  \n",
       "count           36992.000000      33549.000000      36992.000000  \n",
       "mean            29271.194003        686.882199          3.463397  \n",
       "std             19444.806226        194.063624          1.409661  \n",
       "min               800.460000       -760.661236         -1.000000  \n",
       "25%             14177.540000        616.150000          3.000000  \n",
       "50%             27554.485000        697.620000          4.000000  \n",
       "75%             40855.110000        763.950000          5.000000  \n",
       "max             99914.050000       2069.069761          5.000000  "
      ]
     },
     "execution_count": 5,
     "metadata": {},
     "output_type": "execute_result"
    }
   ],
   "source": [
    "df.describe()"
   ]
  },
  {
   "cell_type": "code",
   "execution_count": 6,
   "id": "c154cae1-0d5e-401d-a202-9a85fbe7c740",
   "metadata": {},
   "outputs": [
    {
     "name": "stdout",
     "output_type": "stream",
     "text": [
      "<class 'pandas.core.frame.DataFrame'>\n",
      "RangeIndex: 36992 entries, 0 to 36991\n",
      "Data columns (total 25 columns):\n",
      " #   Column                        Non-Null Count  Dtype  \n",
      "---  ------                        --------------  -----  \n",
      " 0   customer_id                   36992 non-null  object \n",
      " 1   Name                          36992 non-null  object \n",
      " 2   age                           36992 non-null  int64  \n",
      " 3   gender                        36992 non-null  object \n",
      " 4   security_no                   36992 non-null  object \n",
      " 5   region_category               31564 non-null  object \n",
      " 6   membership_category           36992 non-null  object \n",
      " 7   joining_date                  36992 non-null  object \n",
      " 8   joined_through_referral       36992 non-null  object \n",
      " 9   referral_id                   36992 non-null  object \n",
      " 10  preferred_offer_types         36704 non-null  object \n",
      " 11  medium_of_operation           36992 non-null  object \n",
      " 12  internet_option               36992 non-null  object \n",
      " 13  last_visit_time               36992 non-null  object \n",
      " 14  days_since_last_login         36992 non-null  int64  \n",
      " 15  avg_time_spent                36992 non-null  float64\n",
      " 16  avg_transaction_value         36992 non-null  float64\n",
      " 17  avg_frequency_login_days      36992 non-null  object \n",
      " 18  points_in_wallet              33549 non-null  float64\n",
      " 19  used_special_discount         36992 non-null  object \n",
      " 20  offer_application_preference  36992 non-null  object \n",
      " 21  past_complaint                36992 non-null  object \n",
      " 22  complaint_status              36992 non-null  object \n",
      " 23  feedback                      36992 non-null  object \n",
      " 24  churn_risk_score              36992 non-null  int64  \n",
      "dtypes: float64(3), int64(3), object(19)\n",
      "memory usage: 7.1+ MB\n"
     ]
    }
   ],
   "source": [
    "df.info()"
   ]
  },
  {
   "cell_type": "code",
   "execution_count": 7,
   "id": "67fed334-da06-42d7-bbc4-290716fc7742",
   "metadata": {},
   "outputs": [
    {
     "data": {
      "text/plain": [
       "customer_id                        0\n",
       "Name                               0\n",
       "age                                0\n",
       "gender                             0\n",
       "security_no                        0\n",
       "region_category                 5428\n",
       "membership_category                0\n",
       "joining_date                       0\n",
       "joined_through_referral            0\n",
       "referral_id                        0\n",
       "preferred_offer_types            288\n",
       "medium_of_operation                0\n",
       "internet_option                    0\n",
       "last_visit_time                    0\n",
       "days_since_last_login              0\n",
       "avg_time_spent                     0\n",
       "avg_transaction_value              0\n",
       "avg_frequency_login_days           0\n",
       "points_in_wallet                3443\n",
       "used_special_discount              0\n",
       "offer_application_preference       0\n",
       "past_complaint                     0\n",
       "complaint_status                   0\n",
       "feedback                           0\n",
       "churn_risk_score                   0\n",
       "dtype: int64"
      ]
     },
     "execution_count": 7,
     "metadata": {},
     "output_type": "execute_result"
    }
   ],
   "source": [
    "df.isnull().sum()"
   ]
  },
  {
   "cell_type": "markdown",
   "id": "2b433f2f-c3ee-47c4-84a2-df8760eabcec",
   "metadata": {},
   "source": [
    "### Null Values are in:-\n",
    "- region category\n",
    "- points_in_wallet\n",
    "- preferred_offer_types"
   ]
  },
  {
   "cell_type": "markdown",
   "id": "818b676f-b04e-413f-a3b5-65d204cfdca4",
   "metadata": {},
   "source": [
    "## Dealing with categorical null values"
   ]
  },
  {
   "cell_type": "code",
   "execution_count": 8,
   "id": "edb155d7-51fd-415c-828a-15992d61a446",
   "metadata": {},
   "outputs": [
    {
     "data": {
      "text/plain": [
       "array(['Village', 'City', 'Town', nan], dtype=object)"
      ]
     },
     "execution_count": 8,
     "metadata": {},
     "output_type": "execute_result"
    }
   ],
   "source": [
    "df['region_category'].unique()"
   ]
  },
  {
   "cell_type": "code",
   "execution_count": 9,
   "id": "d6f2dbcc-06c8-4d55-90fe-a3975e60eb1a",
   "metadata": {},
   "outputs": [
    {
     "data": {
      "text/plain": [
       "<AxesSubplot:xlabel='region_category', ylabel='count'>"
      ]
     },
     "execution_count": 9,
     "metadata": {},
     "output_type": "execute_result"
    },
    {
     "data": {
      "image/png": "[encoded data removed]",
      "text/plain": [
       "<Figure size 432x288 with 1 Axes>"
      ]
     },
     "metadata": {
      "needs_background": "light"
     },
     "output_type": "display_data"
    }
   ],
   "source": [
    "import seaborn as sns\n",
    "sns.countplot(x='region_category',data=df)"
   ]
  },
  {
   "cell_type": "code",
   "execution_count": 10,
   "id": "00e8e43f-7bde-415b-b156-2ed7d0ede95b",
   "metadata": {},
   "outputs": [
    {
     "data": {
      "text/plain": [
       "'Town'"
      ]
     },
     "execution_count": 10,
     "metadata": {},
     "output_type": "execute_result"
    }
   ],
   "source": [
    "df['region_category'].mode()[0]"
   ]
  },
  {
   "cell_type": "code",
   "execution_count": 11,
   "id": "6bcaa493-e043-4113-a86a-307326166340",
   "metadata": {},
   "outputs": [
    {
     "data": {
      "text/plain": [
       "array(['Gift Vouchers/Coupons', 'Credit/Debit Card Offers',\n",
       "       'Without Offers', nan], dtype=object)"
      ]
     },
     "execution_count": 11,
     "metadata": {},
     "output_type": "execute_result"
    }
   ],
   "source": [
    "df['preferred_offer_types'].unique()"
   ]
  },
  {
   "cell_type": "code",
   "execution_count": 12,
   "id": "ff4d6f3c-72f8-4bbc-a945-ef0510eeab88",
   "metadata": {},
   "outputs": [
    {
     "data": {
      "text/plain": [
       "Gift Vouchers/Coupons       12349\n",
       "Credit/Debit Card Offers    12274\n",
       "Without Offers              12081\n",
       "Name: preferred_offer_types, dtype: int64"
      ]
     },
     "execution_count": 12,
     "metadata": {},
     "output_type": "execute_result"
    }
   ],
   "source": [
    "df['preferred_offer_types'].value_counts()"
   ]
  },
  {
   "cell_type": "code",
   "execution_count": 13,
   "id": "4e66eb86-02ce-48a4-9f30-9c812c6eb4d2",
   "metadata": {},
   "outputs": [
    {
     "data": {
      "text/plain": [
       "<AxesSubplot:xlabel='preferred_offer_types', ylabel='count'>"
      ]
     },
     "execution_count": 13,
     "metadata": {},
     "output_type": "execute_result"
    },
    {
     "data": {
      "image/png": "[encoded data removed]",
      "text/plain": [
       "<Figure size 432x288 with 1 Axes>"
      ]
     },
     "metadata": {
      "needs_background": "light"
     },
     "output_type": "display_data"
    }
   ],
   "source": [
    "sns.countplot(x='preferred_offer_types',data=df)"
   ]
  },
  {
   "cell_type": "code",
   "execution_count": 14,
   "id": "0c757ed6-7690-430c-8b26-225fcda5e2e9",
   "metadata": {},
   "outputs": [],
   "source": [
    "df['region_category'].fillna(df['region_category'].mode()[0],inplace=True)\n",
    "df['preferred_offer_types'].fillna(df['preferred_offer_types'].mode()[0],inplace=True)"
   ]
  },
  {
   "cell_type": "markdown",
   "id": "535ad983-1ba2-41eb-9b51-dfdf18ed6393",
   "metadata": {},
   "source": [
    "## Dealing with numerical null values"
   ]
  },
  {
   "cell_type": "code",
   "execution_count": 15,
   "id": "96b5e3fb-17a1-473b-bf6d-621522f25ce2",
   "metadata": {},
   "outputs": [
    {
     "data": {
      "text/plain": [
       "<AxesSubplot:xlabel='points_in_wallet'>"
      ]
     },
     "execution_count": 15,
     "metadata": {},
     "output_type": "execute_result"
    },
    {
     "data": {
      "image/png": "[encoded data removed]",
      "text/plain": [
       "<Figure size 432x288 with 1 Axes>"
      ]
     },
     "metadata": {
      "needs_background": "light"
     },
     "output_type": "display_data"
    }
   ],
   "source": [
    "sns.boxplot(x='points_in_wallet',data=df)"
   ]
  },
  {
   "cell_type": "code",
   "execution_count": 16,
   "id": "f00e1b53-c6e4-4b8c-90ca-b1c2abef289e",
   "metadata": {},
   "outputs": [
    {
     "data": {
      "text/plain": [
       "697.62"
      ]
     },
     "execution_count": 16,
     "metadata": {},
     "output_type": "execute_result"
    }
   ],
   "source": [
    "df['points_in_wallet'].median()"
   ]
  },
  {
   "cell_type": "code",
   "execution_count": 17,
   "id": "d979db44-cb2a-4d9b-ae92-fa99756f1008",
   "metadata": {},
   "outputs": [],
   "source": [
    "df['points_in_wallet'].fillna(df['points_in_wallet'].median(),inplace=True)"
   ]
  },
  {
   "cell_type": "code",
   "execution_count": 18,
   "id": "d71e3fc0-84c6-4efb-a67e-85ba767bc7cb",
   "metadata": {},
   "outputs": [
    {
     "data": {
      "text/plain": [
       "customer_id                     0\n",
       "Name                            0\n",
       "age                             0\n",
       "gender                          0\n",
       "security_no                     0\n",
       "region_category                 0\n",
       "membership_category             0\n",
       "joining_date                    0\n",
       "joined_through_referral         0\n",
       "referral_id                     0\n",
       "preferred_offer_types           0\n",
       "medium_of_operation             0\n",
       "internet_option                 0\n",
       "last_visit_time                 0\n",
       "days_since_last_login           0\n",
       "avg_time_spent                  0\n",
       "avg_transaction_value           0\n",
       "avg_frequency_login_days        0\n",
       "points_in_wallet                0\n",
       "used_special_discount           0\n",
       "offer_application_preference    0\n",
       "past_complaint                  0\n",
       "complaint_status                0\n",
       "feedback                        0\n",
       "churn_risk_score                0\n",
       "dtype: int64"
      ]
     },
     "execution_count": 18,
     "metadata": {},
     "output_type": "execute_result"
    }
   ],
   "source": [
    "df.isnull().sum()"
   ]
  },
  {
   "cell_type": "code",
   "execution_count": 19,
   "id": "7335032f-c628-4119-ac9b-64a248c9c475",
   "metadata": {},
   "outputs": [],
   "source": [
    "from pandas_profiling import ProfileReport\n",
    "profile=ProfileReport(df)"
   ]
  },
  {
   "cell_type": "code",
   "execution_count": 20,
   "id": "6ff3b60a-041f-491f-9a5a-e8e7b6522bb7",
   "metadata": {},
   "outputs": [],
   "source": [
    "# profile.to_file(output_file='profile_report.html')"
   ]
  },
  {
   "cell_type": "markdown",
   "id": "f790a719-3065-4d23-ada9-ae3d1e3ec968",
   "metadata": {},
   "source": [
    "- from profile report we get that past_complaint and complaint_status have high corr"
   ]
  },
  {
   "cell_type": "code",
   "execution_count": 21,
   "id": "f29f5a43-96fe-4aa2-b34b-6b300d10b28f",
   "metadata": {},
   "outputs": [
    {
     "data": {
      "text/html": [
       "<div>\n",
       "<style scoped>\n",
       "    .dataframe tbody tr th:only-of-type {\n",
       "        vertical-align: middle;\n",
       "    }\n",
       "\n",
       "    .dataframe tbody tr th {\n",
       "        vertical-align: top;\n",
       "    }\n",
       "\n",
       "    .dataframe thead th {\n",
       "        text-align: right;\n",
       "    }\n",
       "</style>\n",
       "<table border=\"1\" class=\"dataframe\">\n",
       "  <thead>\n",
       "    <tr style=\"text-align: right;\">\n",
       "      <th></th>\n",
       "      <th>complaint_status</th>\n",
       "      <th>past_complaint</th>\n",
       "    </tr>\n",
       "  </thead>\n",
       "  <tbody>\n",
       "    <tr>\n",
       "      <th>0</th>\n",
       "      <td>Not Applicable</td>\n",
       "      <td>No</td>\n",
       "    </tr>\n",
       "    <tr>\n",
       "      <th>1</th>\n",
       "      <td>Solved</td>\n",
       "      <td>Yes</td>\n",
       "    </tr>\n",
       "    <tr>\n",
       "      <th>2</th>\n",
       "      <td>Solved in Follow-up</td>\n",
       "      <td>Yes</td>\n",
       "    </tr>\n",
       "    <tr>\n",
       "      <th>3</th>\n",
       "      <td>Unsolved</td>\n",
       "      <td>Yes</td>\n",
       "    </tr>\n",
       "    <tr>\n",
       "      <th>4</th>\n",
       "      <td>Solved</td>\n",
       "      <td>Yes</td>\n",
       "    </tr>\n",
       "  </tbody>\n",
       "</table>\n",
       "</div>"
      ],
      "text/plain": [
       "      complaint_status past_complaint\n",
       "0       Not Applicable             No\n",
       "1               Solved            Yes\n",
       "2  Solved in Follow-up            Yes\n",
       "3             Unsolved            Yes\n",
       "4               Solved            Yes"
      ]
     },
     "execution_count": 21,
     "metadata": {},
     "output_type": "execute_result"
    }
   ],
   "source": [
    "df[['complaint_status','past_complaint']].head()"
   ]
  },
  {
   "cell_type": "code",
   "execution_count": 22,
   "id": "0b1bf427-87c8-4729-8723-760407b44117",
   "metadata": {},
   "outputs": [],
   "source": [
    "df.drop('complaint_status',axis=1,inplace=True)"
   ]
  },
  {
   "cell_type": "code",
   "execution_count": 23,
   "id": "235888b8-03aa-42c2-84ff-be7e3f684782",
   "metadata": {},
   "outputs": [
    {
     "data": {
      "text/plain": [
       "(36992, 24)"
      ]
     },
     "execution_count": 23,
     "metadata": {},
     "output_type": "execute_result"
    }
   ],
   "source": [
    "df.shape"
   ]
  },
  {
   "cell_type": "code",
   "execution_count": 24,
   "id": "f63c2f41-0221-4e2d-adbb-04d5c5c91110",
   "metadata": {},
   "outputs": [],
   "source": [
    "list=[]\n",
    "for x in df:\n",
    "    # print(type(df[x][1]))\n",
    "    if type(df[x][1])==type(np.int64(1)) or type(df[x][1])==type(np.float64(1)):\n",
    "        list.append(x)"
   ]
  },
  {
   "cell_type": "code",
   "execution_count": 25,
   "id": "ddfc49b7-6a24-48f3-8334-e897644b3ce8",
   "metadata": {},
   "outputs": [
    {
     "data": {
      "text/plain": [
       "['age',\n",
       " 'days_since_last_login',\n",
       " 'avg_time_spent',\n",
       " 'avg_transaction_value',\n",
       " 'points_in_wallet',\n",
       " 'churn_risk_score']"
      ]
     },
     "execution_count": 25,
     "metadata": {},
     "output_type": "execute_result"
    }
   ],
   "source": [
    "list"
   ]
  },
  {
   "cell_type": "code",
   "execution_count": 26,
   "id": "b1a0e2d2-8d24-4f25-aaab-7f62b635a71d",
   "metadata": {},
   "outputs": [],
   "source": [
    "df1=df[list]"
   ]
  },
  {
   "cell_type": "code",
   "execution_count": 27,
   "id": "d307d6d5-a893-4093-b99d-5339a9a61120",
   "metadata": {},
   "outputs": [
    {
     "data": {
      "text/html": [
       "<div>\n",
       "<style scoped>\n",
       "    .dataframe tbody tr th:only-of-type {\n",
       "        vertical-align: middle;\n",
       "    }\n",
       "\n",
       "    .dataframe tbody tr th {\n",
       "        vertical-align: top;\n",
       "    }\n",
       "\n",
       "    .dataframe thead th {\n",
       "        text-align: right;\n",
       "    }\n",
       "</style>\n",
       "<table border=\"1\" class=\"dataframe\">\n",
       "  <thead>\n",
       "    <tr style=\"text-align: right;\">\n",
       "      <th></th>\n",
       "      <th>age</th>\n",
       "      <th>days_since_last_login</th>\n",
       "      <th>avg_time_spent</th>\n",
       "      <th>avg_transaction_value</th>\n",
       "      <th>points_in_wallet</th>\n",
       "      <th>churn_risk_score</th>\n",
       "    </tr>\n",
       "  </thead>\n",
       "  <tbody>\n",
       "    <tr>\n",
       "      <th>0</th>\n",
       "      <td>18</td>\n",
       "      <td>17</td>\n",
       "      <td>300.630000</td>\n",
       "      <td>53005.25</td>\n",
       "      <td>781.750000</td>\n",
       "      <td>2</td>\n",
       "    </tr>\n",
       "    <tr>\n",
       "      <th>1</th>\n",
       "      <td>32</td>\n",
       "      <td>16</td>\n",
       "      <td>306.340000</td>\n",
       "      <td>12838.38</td>\n",
       "      <td>697.620000</td>\n",
       "      <td>1</td>\n",
       "    </tr>\n",
       "    <tr>\n",
       "      <th>2</th>\n",
       "      <td>44</td>\n",
       "      <td>14</td>\n",
       "      <td>516.160000</td>\n",
       "      <td>21027.00</td>\n",
       "      <td>500.690000</td>\n",
       "      <td>5</td>\n",
       "    </tr>\n",
       "    <tr>\n",
       "      <th>3</th>\n",
       "      <td>37</td>\n",
       "      <td>11</td>\n",
       "      <td>53.270000</td>\n",
       "      <td>25239.56</td>\n",
       "      <td>567.660000</td>\n",
       "      <td>5</td>\n",
       "    </tr>\n",
       "    <tr>\n",
       "      <th>4</th>\n",
       "      <td>31</td>\n",
       "      <td>20</td>\n",
       "      <td>113.130000</td>\n",
       "      <td>24483.66</td>\n",
       "      <td>663.060000</td>\n",
       "      <td>5</td>\n",
       "    </tr>\n",
       "    <tr>\n",
       "      <th>...</th>\n",
       "      <td>...</td>\n",
       "      <td>...</td>\n",
       "      <td>...</td>\n",
       "      <td>...</td>\n",
       "      <td>...</td>\n",
       "      <td>...</td>\n",
       "    </tr>\n",
       "    <tr>\n",
       "      <th>36987</th>\n",
       "      <td>46</td>\n",
       "      <td>2</td>\n",
       "      <td>-650.682759</td>\n",
       "      <td>27277.68</td>\n",
       "      <td>639.510000</td>\n",
       "      <td>4</td>\n",
       "    </tr>\n",
       "    <tr>\n",
       "      <th>36988</th>\n",
       "      <td>29</td>\n",
       "      <td>13</td>\n",
       "      <td>-638.123421</td>\n",
       "      <td>11069.71</td>\n",
       "      <td>527.990000</td>\n",
       "      <td>5</td>\n",
       "    </tr>\n",
       "    <tr>\n",
       "      <th>36989</th>\n",
       "      <td>23</td>\n",
       "      <td>12</td>\n",
       "      <td>154.940000</td>\n",
       "      <td>38127.56</td>\n",
       "      <td>680.470000</td>\n",
       "      <td>4</td>\n",
       "    </tr>\n",
       "    <tr>\n",
       "      <th>36990</th>\n",
       "      <td>53</td>\n",
       "      <td>15</td>\n",
       "      <td>482.610000</td>\n",
       "      <td>2378.86</td>\n",
       "      <td>197.264414</td>\n",
       "      <td>3</td>\n",
       "    </tr>\n",
       "    <tr>\n",
       "      <th>36991</th>\n",
       "      <td>35</td>\n",
       "      <td>15</td>\n",
       "      <td>79.180000</td>\n",
       "      <td>2189.68</td>\n",
       "      <td>719.970000</td>\n",
       "      <td>2</td>\n",
       "    </tr>\n",
       "  </tbody>\n",
       "</table>\n",
       "<p>36992 rows × 6 columns</p>\n",
       "</div>"
      ],
      "text/plain": [
       "       age  days_since_last_login  avg_time_spent  avg_transaction_value  \\\n",
       "0       18                     17      300.630000               53005.25   \n",
       "1       32                     16      306.340000               12838.38   \n",
       "2       44                     14      516.160000               21027.00   \n",
       "3       37                     11       53.270000               25239.56   \n",
       "4       31                     20      113.130000               24483.66   \n",
       "...    ...                    ...             ...                    ...   \n",
       "36987   46                      2     -650.682759               27277.68   \n",
       "36988   29                     13     -638.123421               11069.71   \n",
       "36989   23                     12      154.940000               38127.56   \n",
       "36990   53                     15      482.610000                2378.86   \n",
       "36991   35                     15       79.180000                2189.68   \n",
       "\n",
       "       points_in_wallet  churn_risk_score  \n",
       "0            781.750000                 2  \n",
       "1            697.620000                 1  \n",
       "2            500.690000                 5  \n",
       "3            567.660000                 5  \n",
       "4            663.060000                 5  \n",
       "...                 ...               ...  \n",
       "36987        639.510000                 4  \n",
       "36988        527.990000                 5  \n",
       "36989        680.470000                 4  \n",
       "36990        197.264414                 3  \n",
       "36991        719.970000                 2  \n",
       "\n",
       "[36992 rows x 6 columns]"
      ]
     },
     "execution_count": 27,
     "metadata": {},
     "output_type": "execute_result"
    }
   ],
   "source": [
    "df1"
   ]
  },
  {
   "cell_type": "code",
   "execution_count": 28,
   "id": "92397613-2651-4564-a221-fa100bb57532",
   "metadata": {},
   "outputs": [
    {
     "data": {
      "image/png": "[encoded data removed]",
      "text/plain": [
       "<Figure size 1440x2160 with 6 Axes>"
      ]
     },
     "metadata": {
      "needs_background": "light"
     },
     "output_type": "display_data"
    }
   ],
   "source": [
    "plt.figure(figsize=(20,30))\n",
    "plotnumber=1\n",
    "\n",
    "for col in df1:\n",
    "    if plotnumber<=15:\n",
    "        ax=plt.subplot(5,3,plotnumber)\n",
    "        sns.histplot(df1[col])\n",
    "        plt.xlabel(col,fontsize=20)\n",
    "        plotnumber+=1\n",
    "plt.tight_layout()"
   ]
  },
  {
   "cell_type": "code",
   "execution_count": 29,
   "id": "6e5dcf1b-6f8d-42f6-8216-99e3bcee08e2",
   "metadata": {},
   "outputs": [],
   "source": [
    "df['joining_day']=pd.to_datetime(df.joining_date,format='%Y/%m/%d').dt.day\n",
    "df['joining_month']=pd.to_datetime(df.joining_date,format='%Y/%m/%d').dt.month\n",
    "df['joining_year']=pd.to_datetime(df.joining_date,format='%Y/%m/%d').dt.year"
   ]
  },
  {
   "cell_type": "code",
   "execution_count": 30,
   "id": "c6b74b54-48d2-4b1f-ba6c-7226a0da510d",
   "metadata": {},
   "outputs": [],
   "source": [
    "df.drop('joining_date',axis=1,inplace=True)"
   ]
  },
  {
   "cell_type": "code",
   "execution_count": 31,
   "id": "c023d7ed-c0f3-4221-990f-3f2ff3a9f056",
   "metadata": {},
   "outputs": [],
   "source": [
    "df[['last_visit_time_hour','last_visit_time_minutes','last_visit_time_seconds']] = df['last_visit_time'].astype(str).str.split(':', expand=True).astype(int)\n",
    "df.drop(['last_visit_time'], axis=1, inplace=True)"
   ]
  },
  {
   "cell_type": "code",
   "execution_count": 32,
   "id": "f36c2ab8-641c-44f6-ae93-5c6cc1151643",
   "metadata": {},
   "outputs": [
    {
     "data": {
      "text/html": [
       "<div>\n",
       "<style scoped>\n",
       "    .dataframe tbody tr th:only-of-type {\n",
       "        vertical-align: middle;\n",
       "    }\n",
       "\n",
       "    .dataframe tbody tr th {\n",
       "        vertical-align: top;\n",
       "    }\n",
       "\n",
       "    .dataframe thead th {\n",
       "        text-align: right;\n",
       "    }\n",
       "</style>\n",
       "<table border=\"1\" class=\"dataframe\">\n",
       "  <thead>\n",
       "    <tr style=\"text-align: right;\">\n",
       "      <th></th>\n",
       "      <th>customer_id</th>\n",
       "      <th>Name</th>\n",
       "      <th>age</th>\n",
       "      <th>gender</th>\n",
       "      <th>security_no</th>\n",
       "      <th>region_category</th>\n",
       "      <th>membership_category</th>\n",
       "      <th>joined_through_referral</th>\n",
       "      <th>referral_id</th>\n",
       "      <th>preferred_offer_types</th>\n",
       "      <th>...</th>\n",
       "      <th>offer_application_preference</th>\n",
       "      <th>past_complaint</th>\n",
       "      <th>feedback</th>\n",
       "      <th>churn_risk_score</th>\n",
       "      <th>joining_day</th>\n",
       "      <th>joining_month</th>\n",
       "      <th>joining_year</th>\n",
       "      <th>last_visit_time_hour</th>\n",
       "      <th>last_visit_time_minutes</th>\n",
       "      <th>last_visit_time_seconds</th>\n",
       "    </tr>\n",
       "  </thead>\n",
       "  <tbody>\n",
       "    <tr>\n",
       "      <th>0</th>\n",
       "      <td>fffe4300490044003600300030003800</td>\n",
       "      <td>Pattie Morrisey</td>\n",
       "      <td>18</td>\n",
       "      <td>F</td>\n",
       "      <td>XW0DQ7H</td>\n",
       "      <td>Village</td>\n",
       "      <td>Platinum Membership</td>\n",
       "      <td>No</td>\n",
       "      <td>xxxxxxxx</td>\n",
       "      <td>Gift Vouchers/Coupons</td>\n",
       "      <td>...</td>\n",
       "      <td>Yes</td>\n",
       "      <td>No</td>\n",
       "      <td>Products always in Stock</td>\n",
       "      <td>2</td>\n",
       "      <td>17</td>\n",
       "      <td>8</td>\n",
       "      <td>2017</td>\n",
       "      <td>16</td>\n",
       "      <td>8</td>\n",
       "      <td>2</td>\n",
       "    </tr>\n",
       "    <tr>\n",
       "      <th>1</th>\n",
       "      <td>fffe43004900440032003100300035003700</td>\n",
       "      <td>Traci Peery</td>\n",
       "      <td>32</td>\n",
       "      <td>F</td>\n",
       "      <td>5K0N3X1</td>\n",
       "      <td>City</td>\n",
       "      <td>Premium Membership</td>\n",
       "      <td>?</td>\n",
       "      <td>CID21329</td>\n",
       "      <td>Gift Vouchers/Coupons</td>\n",
       "      <td>...</td>\n",
       "      <td>No</td>\n",
       "      <td>Yes</td>\n",
       "      <td>Quality Customer Care</td>\n",
       "      <td>1</td>\n",
       "      <td>28</td>\n",
       "      <td>8</td>\n",
       "      <td>2017</td>\n",
       "      <td>12</td>\n",
       "      <td>38</td>\n",
       "      <td>13</td>\n",
       "    </tr>\n",
       "    <tr>\n",
       "      <th>2</th>\n",
       "      <td>fffe4300490044003100390032003600</td>\n",
       "      <td>Merideth Mcmeen</td>\n",
       "      <td>44</td>\n",
       "      <td>F</td>\n",
       "      <td>1F2TCL3</td>\n",
       "      <td>Town</td>\n",
       "      <td>No Membership</td>\n",
       "      <td>Yes</td>\n",
       "      <td>CID12313</td>\n",
       "      <td>Gift Vouchers/Coupons</td>\n",
       "      <td>...</td>\n",
       "      <td>Yes</td>\n",
       "      <td>Yes</td>\n",
       "      <td>Poor Website</td>\n",
       "      <td>5</td>\n",
       "      <td>11</td>\n",
       "      <td>11</td>\n",
       "      <td>2016</td>\n",
       "      <td>22</td>\n",
       "      <td>53</td>\n",
       "      <td>21</td>\n",
       "    </tr>\n",
       "    <tr>\n",
       "      <th>3</th>\n",
       "      <td>fffe43004900440036003000330031003600</td>\n",
       "      <td>Eufemia Cardwell</td>\n",
       "      <td>37</td>\n",
       "      <td>M</td>\n",
       "      <td>VJGJ33N</td>\n",
       "      <td>City</td>\n",
       "      <td>No Membership</td>\n",
       "      <td>Yes</td>\n",
       "      <td>CID3793</td>\n",
       "      <td>Gift Vouchers/Coupons</td>\n",
       "      <td>...</td>\n",
       "      <td>Yes</td>\n",
       "      <td>Yes</td>\n",
       "      <td>Poor Website</td>\n",
       "      <td>5</td>\n",
       "      <td>29</td>\n",
       "      <td>10</td>\n",
       "      <td>2016</td>\n",
       "      <td>15</td>\n",
       "      <td>57</td>\n",
       "      <td>50</td>\n",
       "    </tr>\n",
       "    <tr>\n",
       "      <th>4</th>\n",
       "      <td>fffe43004900440031003900350030003600</td>\n",
       "      <td>Meghan Kosak</td>\n",
       "      <td>31</td>\n",
       "      <td>F</td>\n",
       "      <td>SVZXCWB</td>\n",
       "      <td>City</td>\n",
       "      <td>No Membership</td>\n",
       "      <td>No</td>\n",
       "      <td>xxxxxxxx</td>\n",
       "      <td>Credit/Debit Card Offers</td>\n",
       "      <td>...</td>\n",
       "      <td>Yes</td>\n",
       "      <td>Yes</td>\n",
       "      <td>Poor Website</td>\n",
       "      <td>5</td>\n",
       "      <td>12</td>\n",
       "      <td>9</td>\n",
       "      <td>2017</td>\n",
       "      <td>15</td>\n",
       "      <td>46</td>\n",
       "      <td>44</td>\n",
       "    </tr>\n",
       "  </tbody>\n",
       "</table>\n",
       "<p>5 rows × 28 columns</p>\n",
       "</div>"
      ],
      "text/plain": [
       "                            customer_id              Name  age gender  \\\n",
       "0      fffe4300490044003600300030003800   Pattie Morrisey   18      F   \n",
       "1  fffe43004900440032003100300035003700       Traci Peery   32      F   \n",
       "2      fffe4300490044003100390032003600   Merideth Mcmeen   44      F   \n",
       "3  fffe43004900440036003000330031003600  Eufemia Cardwell   37      M   \n",
       "4  fffe43004900440031003900350030003600      Meghan Kosak   31      F   \n",
       "\n",
       "  security_no region_category  membership_category joined_through_referral  \\\n",
       "0     XW0DQ7H         Village  Platinum Membership                      No   \n",
       "1     5K0N3X1            City   Premium Membership                       ?   \n",
       "2     1F2TCL3            Town        No Membership                     Yes   \n",
       "3     VJGJ33N            City        No Membership                     Yes   \n",
       "4     SVZXCWB            City        No Membership                      No   \n",
       "\n",
       "  referral_id     preferred_offer_types  ... offer_application_preference  \\\n",
       "0    xxxxxxxx     Gift Vouchers/Coupons  ...                          Yes   \n",
       "1    CID21329     Gift Vouchers/Coupons  ...                           No   \n",
       "2    CID12313     Gift Vouchers/Coupons  ...                          Yes   \n",
       "3     CID3793     Gift Vouchers/Coupons  ...                          Yes   \n",
       "4    xxxxxxxx  Credit/Debit Card Offers  ...                          Yes   \n",
       "\n",
       "  past_complaint                  feedback  churn_risk_score  joining_day  \\\n",
       "0             No  Products always in Stock                 2           17   \n",
       "1            Yes     Quality Customer Care                 1           28   \n",
       "2            Yes              Poor Website                 5           11   \n",
       "3            Yes              Poor Website                 5           29   \n",
       "4            Yes              Poor Website                 5           12   \n",
       "\n",
       "  joining_month  joining_year last_visit_time_hour last_visit_time_minutes  \\\n",
       "0             8          2017                   16                       8   \n",
       "1             8          2017                   12                      38   \n",
       "2            11          2016                   22                      53   \n",
       "3            10          2016                   15                      57   \n",
       "4             9          2017                   15                      46   \n",
       "\n",
       "  last_visit_time_seconds  \n",
       "0                       2  \n",
       "1                      13  \n",
       "2                      21  \n",
       "3                      50  \n",
       "4                      44  \n",
       "\n",
       "[5 rows x 28 columns]"
      ]
     },
     "execution_count": 32,
     "metadata": {},
     "output_type": "execute_result"
    }
   ],
   "source": [
    "df.head()"
   ]
  },
  {
   "cell_type": "code",
   "execution_count": 33,
   "id": "7784b3f3-f5d5-4c6d-a0fc-9c5feb427e3f",
   "metadata": {},
   "outputs": [
    {
     "data": {
      "text/plain": [
       "F          18490\n",
       "M          18443\n",
       "Unknown       59\n",
       "Name: gender, dtype: int64"
      ]
     },
     "execution_count": 33,
     "metadata": {},
     "output_type": "execute_result"
    }
   ],
   "source": [
    "df['gender'].value_counts()"
   ]
  },
  {
   "cell_type": "code",
   "execution_count": 34,
   "id": "f227dc37-b093-4480-89ac-e6e3339d55d8",
   "metadata": {},
   "outputs": [],
   "source": [
    "gender = pd.get_dummies(df[['gender']])\n",
    "gender.drop('gender_Unknown',inplace=True,axis=1)"
   ]
  },
  {
   "cell_type": "code",
   "execution_count": 35,
   "id": "5161fb69-0dc4-43e1-82b2-515b385215fd",
   "metadata": {},
   "outputs": [
    {
     "data": {
      "text/html": [
       "<div>\n",
       "<style scoped>\n",
       "    .dataframe tbody tr th:only-of-type {\n",
       "        vertical-align: middle;\n",
       "    }\n",
       "\n",
       "    .dataframe tbody tr th {\n",
       "        vertical-align: top;\n",
       "    }\n",
       "\n",
       "    .dataframe thead th {\n",
       "        text-align: right;\n",
       "    }\n",
       "</style>\n",
       "<table border=\"1\" class=\"dataframe\">\n",
       "  <thead>\n",
       "    <tr style=\"text-align: right;\">\n",
       "      <th></th>\n",
       "      <th>gender_F</th>\n",
       "      <th>gender_M</th>\n",
       "    </tr>\n",
       "  </thead>\n",
       "  <tbody>\n",
       "    <tr>\n",
       "      <th>0</th>\n",
       "      <td>1</td>\n",
       "      <td>0</td>\n",
       "    </tr>\n",
       "    <tr>\n",
       "      <th>1</th>\n",
       "      <td>1</td>\n",
       "      <td>0</td>\n",
       "    </tr>\n",
       "    <tr>\n",
       "      <th>2</th>\n",
       "      <td>1</td>\n",
       "      <td>0</td>\n",
       "    </tr>\n",
       "    <tr>\n",
       "      <th>3</th>\n",
       "      <td>0</td>\n",
       "      <td>1</td>\n",
       "    </tr>\n",
       "    <tr>\n",
       "      <th>4</th>\n",
       "      <td>1</td>\n",
       "      <td>0</td>\n",
       "    </tr>\n",
       "  </tbody>\n",
       "</table>\n",
       "</div>"
      ],
      "text/plain": [
       "   gender_F  gender_M\n",
       "0         1         0\n",
       "1         1         0\n",
       "2         1         0\n",
       "3         0         1\n",
       "4         1         0"
      ]
     },
     "execution_count": 35,
     "metadata": {},
     "output_type": "execute_result"
    }
   ],
   "source": [
    "gender.head()"
   ]
  },
  {
   "cell_type": "code",
   "execution_count": 36,
   "id": "5ab6f52d-dfe5-4e92-9f12-c2053d21bb47",
   "metadata": {},
   "outputs": [
    {
     "data": {
      "text/plain": [
       "Town       19556\n",
       "City       12737\n",
       "Village     4699\n",
       "Name: region_category, dtype: int64"
      ]
     },
     "execution_count": 36,
     "metadata": {},
     "output_type": "execute_result"
    }
   ],
   "source": [
    "df['region_category'].value_counts()"
   ]
  },
  {
   "cell_type": "code",
   "execution_count": 37,
   "id": "9506c1f8-fff5-45cc-87e5-7fd1d8cd0100",
   "metadata": {},
   "outputs": [
    {
     "data": {
      "text/html": [
       "<div>\n",
       "<style scoped>\n",
       "    .dataframe tbody tr th:only-of-type {\n",
       "        vertical-align: middle;\n",
       "    }\n",
       "\n",
       "    .dataframe tbody tr th {\n",
       "        vertical-align: top;\n",
       "    }\n",
       "\n",
       "    .dataframe thead th {\n",
       "        text-align: right;\n",
       "    }\n",
       "</style>\n",
       "<table border=\"1\" class=\"dataframe\">\n",
       "  <thead>\n",
       "    <tr style=\"text-align: right;\">\n",
       "      <th></th>\n",
       "      <th>region_category_Town</th>\n",
       "      <th>region_category_Village</th>\n",
       "    </tr>\n",
       "  </thead>\n",
       "  <tbody>\n",
       "    <tr>\n",
       "      <th>0</th>\n",
       "      <td>0</td>\n",
       "      <td>1</td>\n",
       "    </tr>\n",
       "    <tr>\n",
       "      <th>1</th>\n",
       "      <td>0</td>\n",
       "      <td>0</td>\n",
       "    </tr>\n",
       "    <tr>\n",
       "      <th>2</th>\n",
       "      <td>1</td>\n",
       "      <td>0</td>\n",
       "    </tr>\n",
       "    <tr>\n",
       "      <th>3</th>\n",
       "      <td>0</td>\n",
       "      <td>0</td>\n",
       "    </tr>\n",
       "    <tr>\n",
       "      <th>4</th>\n",
       "      <td>0</td>\n",
       "      <td>0</td>\n",
       "    </tr>\n",
       "  </tbody>\n",
       "</table>\n",
       "</div>"
      ],
      "text/plain": [
       "   region_category_Town  region_category_Village\n",
       "0                     0                        1\n",
       "1                     0                        0\n",
       "2                     1                        0\n",
       "3                     0                        0\n",
       "4                     0                        0"
      ]
     },
     "execution_count": 37,
     "metadata": {},
     "output_type": "execute_result"
    }
   ],
   "source": [
    "region = pd.get_dummies(df[['region_category']], drop_first=True)\n",
    "region.head()"
   ]
  },
  {
   "cell_type": "code",
   "execution_count": 38,
   "id": "b3bec05a-92bb-4a3a-ba77-2f86b9254bb2",
   "metadata": {},
   "outputs": [
    {
     "data": {
      "text/plain": [
       "Basic Membership       7724\n",
       "No Membership          7692\n",
       "Gold Membership        6795\n",
       "Silver Membership      5988\n",
       "Premium Membership     4455\n",
       "Platinum Membership    4338\n",
       "Name: membership_category, dtype: int64"
      ]
     },
     "execution_count": 38,
     "metadata": {},
     "output_type": "execute_result"
    }
   ],
   "source": [
    "df['membership_category'].value_counts()"
   ]
  },
  {
   "cell_type": "code",
   "execution_count": 39,
   "id": "29b52d03-9587-4398-b9be-8e8bec14d12c",
   "metadata": {},
   "outputs": [
    {
     "data": {
      "text/html": [
       "<div>\n",
       "<style scoped>\n",
       "    .dataframe tbody tr th:only-of-type {\n",
       "        vertical-align: middle;\n",
       "    }\n",
       "\n",
       "    .dataframe tbody tr th {\n",
       "        vertical-align: top;\n",
       "    }\n",
       "\n",
       "    .dataframe thead th {\n",
       "        text-align: right;\n",
       "    }\n",
       "</style>\n",
       "<table border=\"1\" class=\"dataframe\">\n",
       "  <thead>\n",
       "    <tr style=\"text-align: right;\">\n",
       "      <th></th>\n",
       "      <th>membership_category_Gold Membership</th>\n",
       "      <th>membership_category_No Membership</th>\n",
       "      <th>membership_category_Platinum Membership</th>\n",
       "      <th>membership_category_Premium Membership</th>\n",
       "      <th>membership_category_Silver Membership</th>\n",
       "    </tr>\n",
       "  </thead>\n",
       "  <tbody>\n",
       "    <tr>\n",
       "      <th>0</th>\n",
       "      <td>0</td>\n",
       "      <td>0</td>\n",
       "      <td>1</td>\n",
       "      <td>0</td>\n",
       "      <td>0</td>\n",
       "    </tr>\n",
       "    <tr>\n",
       "      <th>1</th>\n",
       "      <td>0</td>\n",
       "      <td>0</td>\n",
       "      <td>0</td>\n",
       "      <td>1</td>\n",
       "      <td>0</td>\n",
       "    </tr>\n",
       "    <tr>\n",
       "      <th>2</th>\n",
       "      <td>0</td>\n",
       "      <td>1</td>\n",
       "      <td>0</td>\n",
       "      <td>0</td>\n",
       "      <td>0</td>\n",
       "    </tr>\n",
       "    <tr>\n",
       "      <th>3</th>\n",
       "      <td>0</td>\n",
       "      <td>1</td>\n",
       "      <td>0</td>\n",
       "      <td>0</td>\n",
       "      <td>0</td>\n",
       "    </tr>\n",
       "    <tr>\n",
       "      <th>4</th>\n",
       "      <td>0</td>\n",
       "      <td>1</td>\n",
       "      <td>0</td>\n",
       "      <td>0</td>\n",
       "      <td>0</td>\n",
       "    </tr>\n",
       "  </tbody>\n",
       "</table>\n",
       "</div>"
      ],
      "text/plain": [
       "   membership_category_Gold Membership  membership_category_No Membership  \\\n",
       "0                                    0                                  0   \n",
       "1                                    0                                  0   \n",
       "2                                    0                                  1   \n",
       "3                                    0                                  1   \n",
       "4                                    0                                  1   \n",
       "\n",
       "   membership_category_Platinum Membership  \\\n",
       "0                                        1   \n",
       "1                                        0   \n",
       "2                                        0   \n",
       "3                                        0   \n",
       "4                                        0   \n",
       "\n",
       "   membership_category_Premium Membership  \\\n",
       "0                                       0   \n",
       "1                                       1   \n",
       "2                                       0   \n",
       "3                                       0   \n",
       "4                                       0   \n",
       "\n",
       "   membership_category_Silver Membership  \n",
       "0                                      0  \n",
       "1                                      0  \n",
       "2                                      0  \n",
       "3                                      0  \n",
       "4                                      0  "
      ]
     },
     "execution_count": 39,
     "metadata": {},
     "output_type": "execute_result"
    }
   ],
   "source": [
    "membership = pd.get_dummies(df[['membership_category']], drop_first=True)\n",
    "membership.head()"
   ]
  },
  {
   "cell_type": "code",
   "execution_count": 40,
   "id": "88e80e42-4e97-444a-9714-2a5422fcb86d",
   "metadata": {},
   "outputs": [
    {
     "data": {
      "text/plain": [
       "No     15839\n",
       "Yes    15715\n",
       "?       5438\n",
       "Name: joined_through_referral, dtype: int64"
      ]
     },
     "execution_count": 40,
     "metadata": {},
     "output_type": "execute_result"
    }
   ],
   "source": [
    "df.joined_through_referral.value_counts()"
   ]
  },
  {
   "cell_type": "code",
   "execution_count": 41,
   "id": "f88f8b37-22da-4f94-9d6e-14973d95afb4",
   "metadata": {},
   "outputs": [
    {
     "data": {
      "text/html": [
       "<div>\n",
       "<style scoped>\n",
       "    .dataframe tbody tr th:only-of-type {\n",
       "        vertical-align: middle;\n",
       "    }\n",
       "\n",
       "    .dataframe tbody tr th {\n",
       "        vertical-align: top;\n",
       "    }\n",
       "\n",
       "    .dataframe thead th {\n",
       "        text-align: right;\n",
       "    }\n",
       "</style>\n",
       "<table border=\"1\" class=\"dataframe\">\n",
       "  <thead>\n",
       "    <tr style=\"text-align: right;\">\n",
       "      <th></th>\n",
       "      <th>joined_through_referral_No</th>\n",
       "      <th>joined_through_referral_Yes</th>\n",
       "    </tr>\n",
       "  </thead>\n",
       "  <tbody>\n",
       "    <tr>\n",
       "      <th>0</th>\n",
       "      <td>1</td>\n",
       "      <td>0</td>\n",
       "    </tr>\n",
       "    <tr>\n",
       "      <th>1</th>\n",
       "      <td>0</td>\n",
       "      <td>0</td>\n",
       "    </tr>\n",
       "    <tr>\n",
       "      <th>2</th>\n",
       "      <td>0</td>\n",
       "      <td>1</td>\n",
       "    </tr>\n",
       "    <tr>\n",
       "      <th>3</th>\n",
       "      <td>0</td>\n",
       "      <td>1</td>\n",
       "    </tr>\n",
       "    <tr>\n",
       "      <th>4</th>\n",
       "      <td>1</td>\n",
       "      <td>0</td>\n",
       "    </tr>\n",
       "  </tbody>\n",
       "</table>\n",
       "</div>"
      ],
      "text/plain": [
       "   joined_through_referral_No  joined_through_referral_Yes\n",
       "0                           1                            0\n",
       "1                           0                            0\n",
       "2                           0                            1\n",
       "3                           0                            1\n",
       "4                           1                            0"
      ]
     },
     "execution_count": 41,
     "metadata": {},
     "output_type": "execute_result"
    }
   ],
   "source": [
    "referal = pd.get_dummies(df[['joined_through_referral']], drop_first=True)\n",
    "referal.head()"
   ]
  },
  {
   "cell_type": "code",
   "execution_count": 42,
   "id": "ee9fbc0e-9d47-4611-b6b5-4f6878717d49",
   "metadata": {},
   "outputs": [
    {
     "data": {
      "text/plain": [
       "Gift Vouchers/Coupons       12637\n",
       "Credit/Debit Card Offers    12274\n",
       "Without Offers              12081\n",
       "Name: preferred_offer_types, dtype: int64"
      ]
     },
     "execution_count": 42,
     "metadata": {},
     "output_type": "execute_result"
    }
   ],
   "source": [
    "df.preferred_offer_types.value_counts()"
   ]
  },
  {
   "cell_type": "code",
   "execution_count": 43,
   "id": "6be9083a-e15f-4a95-9df4-b5cb5adf2c95",
   "metadata": {},
   "outputs": [
    {
     "data": {
      "text/html": [
       "<div>\n",
       "<style scoped>\n",
       "    .dataframe tbody tr th:only-of-type {\n",
       "        vertical-align: middle;\n",
       "    }\n",
       "\n",
       "    .dataframe tbody tr th {\n",
       "        vertical-align: top;\n",
       "    }\n",
       "\n",
       "    .dataframe thead th {\n",
       "        text-align: right;\n",
       "    }\n",
       "</style>\n",
       "<table border=\"1\" class=\"dataframe\">\n",
       "  <thead>\n",
       "    <tr style=\"text-align: right;\">\n",
       "      <th></th>\n",
       "      <th>preferred_offer_types_Gift Vouchers/Coupons</th>\n",
       "      <th>preferred_offer_types_Without Offers</th>\n",
       "    </tr>\n",
       "  </thead>\n",
       "  <tbody>\n",
       "    <tr>\n",
       "      <th>0</th>\n",
       "      <td>1</td>\n",
       "      <td>0</td>\n",
       "    </tr>\n",
       "    <tr>\n",
       "      <th>1</th>\n",
       "      <td>1</td>\n",
       "      <td>0</td>\n",
       "    </tr>\n",
       "    <tr>\n",
       "      <th>2</th>\n",
       "      <td>1</td>\n",
       "      <td>0</td>\n",
       "    </tr>\n",
       "    <tr>\n",
       "      <th>3</th>\n",
       "      <td>1</td>\n",
       "      <td>0</td>\n",
       "    </tr>\n",
       "    <tr>\n",
       "      <th>4</th>\n",
       "      <td>0</td>\n",
       "      <td>0</td>\n",
       "    </tr>\n",
       "  </tbody>\n",
       "</table>\n",
       "</div>"
      ],
      "text/plain": [
       "   preferred_offer_types_Gift Vouchers/Coupons  \\\n",
       "0                                            1   \n",
       "1                                            1   \n",
       "2                                            1   \n",
       "3                                            1   \n",
       "4                                            0   \n",
       "\n",
       "   preferred_offer_types_Without Offers  \n",
       "0                                     0  \n",
       "1                                     0  \n",
       "2                                     0  \n",
       "3                                     0  \n",
       "4                                     0  "
      ]
     },
     "execution_count": 43,
     "metadata": {},
     "output_type": "execute_result"
    }
   ],
   "source": [
    "offer = pd.get_dummies(df[['preferred_offer_types']], drop_first=True)\n",
    "offer.head()"
   ]
  },
  {
   "cell_type": "code",
   "execution_count": 44,
   "id": "55851b7b-cc9d-49ae-b16b-9a02cc1f9189",
   "metadata": {},
   "outputs": [
    {
     "data": {
      "text/html": [
       "<div>\n",
       "<style scoped>\n",
       "    .dataframe tbody tr th:only-of-type {\n",
       "        vertical-align: middle;\n",
       "    }\n",
       "\n",
       "    .dataframe tbody tr th {\n",
       "        vertical-align: top;\n",
       "    }\n",
       "\n",
       "    .dataframe thead th {\n",
       "        text-align: right;\n",
       "    }\n",
       "</style>\n",
       "<table border=\"1\" class=\"dataframe\">\n",
       "  <thead>\n",
       "    <tr style=\"text-align: right;\">\n",
       "      <th></th>\n",
       "      <th>feedback_Poor Customer Service</th>\n",
       "      <th>feedback_Poor Product Quality</th>\n",
       "      <th>feedback_Poor Website</th>\n",
       "      <th>feedback_Products always in Stock</th>\n",
       "      <th>feedback_Quality Customer Care</th>\n",
       "      <th>feedback_Reasonable Price</th>\n",
       "      <th>feedback_Too many ads</th>\n",
       "      <th>feedback_User Friendly Website</th>\n",
       "    </tr>\n",
       "  </thead>\n",
       "  <tbody>\n",
       "    <tr>\n",
       "      <th>0</th>\n",
       "      <td>0</td>\n",
       "      <td>0</td>\n",
       "      <td>0</td>\n",
       "      <td>1</td>\n",
       "      <td>0</td>\n",
       "      <td>0</td>\n",
       "      <td>0</td>\n",
       "      <td>0</td>\n",
       "    </tr>\n",
       "    <tr>\n",
       "      <th>1</th>\n",
       "      <td>0</td>\n",
       "      <td>0</td>\n",
       "      <td>0</td>\n",
       "      <td>0</td>\n",
       "      <td>1</td>\n",
       "      <td>0</td>\n",
       "      <td>0</td>\n",
       "      <td>0</td>\n",
       "    </tr>\n",
       "    <tr>\n",
       "      <th>2</th>\n",
       "      <td>0</td>\n",
       "      <td>0</td>\n",
       "      <td>1</td>\n",
       "      <td>0</td>\n",
       "      <td>0</td>\n",
       "      <td>0</td>\n",
       "      <td>0</td>\n",
       "      <td>0</td>\n",
       "    </tr>\n",
       "    <tr>\n",
       "      <th>3</th>\n",
       "      <td>0</td>\n",
       "      <td>0</td>\n",
       "      <td>1</td>\n",
       "      <td>0</td>\n",
       "      <td>0</td>\n",
       "      <td>0</td>\n",
       "      <td>0</td>\n",
       "      <td>0</td>\n",
       "    </tr>\n",
       "    <tr>\n",
       "      <th>4</th>\n",
       "      <td>0</td>\n",
       "      <td>0</td>\n",
       "      <td>1</td>\n",
       "      <td>0</td>\n",
       "      <td>0</td>\n",
       "      <td>0</td>\n",
       "      <td>0</td>\n",
       "      <td>0</td>\n",
       "    </tr>\n",
       "  </tbody>\n",
       "</table>\n",
       "</div>"
      ],
      "text/plain": [
       "   feedback_Poor Customer Service  feedback_Poor Product Quality  \\\n",
       "0                               0                              0   \n",
       "1                               0                              0   \n",
       "2                               0                              0   \n",
       "3                               0                              0   \n",
       "4                               0                              0   \n",
       "\n",
       "   feedback_Poor Website  feedback_Products always in Stock  \\\n",
       "0                      0                                  1   \n",
       "1                      0                                  0   \n",
       "2                      1                                  0   \n",
       "3                      1                                  0   \n",
       "4                      1                                  0   \n",
       "\n",
       "   feedback_Quality Customer Care  feedback_Reasonable Price  \\\n",
       "0                               0                          0   \n",
       "1                               1                          0   \n",
       "2                               0                          0   \n",
       "3                               0                          0   \n",
       "4                               0                          0   \n",
       "\n",
       "   feedback_Too many ads  feedback_User Friendly Website  \n",
       "0                      0                               0  \n",
       "1                      0                               0  \n",
       "2                      0                               0  \n",
       "3                      0                               0  \n",
       "4                      0                               0  "
      ]
     },
     "execution_count": 44,
     "metadata": {},
     "output_type": "execute_result"
    }
   ],
   "source": [
    "feedback = pd.get_dummies(df[['feedback']], drop_first=True)\n",
    "feedback.head()"
   ]
  },
  {
   "cell_type": "code",
   "execution_count": 45,
   "id": "7c61bb15-e63d-49a1-b73f-cc7679102b5c",
   "metadata": {},
   "outputs": [
    {
     "data": {
      "text/html": [
       "<div>\n",
       "<style scoped>\n",
       "    .dataframe tbody tr th:only-of-type {\n",
       "        vertical-align: middle;\n",
       "    }\n",
       "\n",
       "    .dataframe tbody tr th {\n",
       "        vertical-align: top;\n",
       "    }\n",
       "\n",
       "    .dataframe thead th {\n",
       "        text-align: right;\n",
       "    }\n",
       "</style>\n",
       "<table border=\"1\" class=\"dataframe\">\n",
       "  <thead>\n",
       "    <tr style=\"text-align: right;\">\n",
       "      <th></th>\n",
       "      <th>past_complaint_Yes</th>\n",
       "    </tr>\n",
       "  </thead>\n",
       "  <tbody>\n",
       "    <tr>\n",
       "      <th>0</th>\n",
       "      <td>0</td>\n",
       "    </tr>\n",
       "    <tr>\n",
       "      <th>1</th>\n",
       "      <td>1</td>\n",
       "    </tr>\n",
       "    <tr>\n",
       "      <th>2</th>\n",
       "      <td>1</td>\n",
       "    </tr>\n",
       "    <tr>\n",
       "      <th>3</th>\n",
       "      <td>1</td>\n",
       "    </tr>\n",
       "    <tr>\n",
       "      <th>4</th>\n",
       "      <td>1</td>\n",
       "    </tr>\n",
       "  </tbody>\n",
       "</table>\n",
       "</div>"
      ],
      "text/plain": [
       "   past_complaint_Yes\n",
       "0                   0\n",
       "1                   1\n",
       "2                   1\n",
       "3                   1\n",
       "4                   1"
      ]
     },
     "execution_count": 45,
     "metadata": {},
     "output_type": "execute_result"
    }
   ],
   "source": [
    "complaint = pd.get_dummies(df[['past_complaint']], drop_first=True)\n",
    "complaint.head()"
   ]
  },
  {
   "cell_type": "code",
   "execution_count": 46,
   "id": "2bdc99eb-3056-4e0c-bace-1632d9e785f4",
   "metadata": {},
   "outputs": [
    {
     "data": {
      "text/html": [
       "<div>\n",
       "<style scoped>\n",
       "    .dataframe tbody tr th:only-of-type {\n",
       "        vertical-align: middle;\n",
       "    }\n",
       "\n",
       "    .dataframe tbody tr th {\n",
       "        vertical-align: top;\n",
       "    }\n",
       "\n",
       "    .dataframe thead th {\n",
       "        text-align: right;\n",
       "    }\n",
       "</style>\n",
       "<table border=\"1\" class=\"dataframe\">\n",
       "  <thead>\n",
       "    <tr style=\"text-align: right;\">\n",
       "      <th></th>\n",
       "      <th>offer_application_preference_Yes</th>\n",
       "    </tr>\n",
       "  </thead>\n",
       "  <tbody>\n",
       "    <tr>\n",
       "      <th>0</th>\n",
       "      <td>1</td>\n",
       "    </tr>\n",
       "    <tr>\n",
       "      <th>1</th>\n",
       "      <td>0</td>\n",
       "    </tr>\n",
       "    <tr>\n",
       "      <th>2</th>\n",
       "      <td>1</td>\n",
       "    </tr>\n",
       "    <tr>\n",
       "      <th>3</th>\n",
       "      <td>1</td>\n",
       "    </tr>\n",
       "    <tr>\n",
       "      <th>4</th>\n",
       "      <td>1</td>\n",
       "    </tr>\n",
       "  </tbody>\n",
       "</table>\n",
       "</div>"
      ],
      "text/plain": [
       "   offer_application_preference_Yes\n",
       "0                                 1\n",
       "1                                 0\n",
       "2                                 1\n",
       "3                                 1\n",
       "4                                 1"
      ]
     },
     "execution_count": 46,
     "metadata": {},
     "output_type": "execute_result"
    }
   ],
   "source": [
    "application = pd.get_dummies(df[['offer_application_preference']], drop_first=True)\n",
    "application.head()"
   ]
  },
  {
   "cell_type": "code",
   "execution_count": 47,
   "id": "5ca6c890-17b4-4694-9798-818231749814",
   "metadata": {},
   "outputs": [
    {
     "data": {
      "text/html": [
       "<div>\n",
       "<style scoped>\n",
       "    .dataframe tbody tr th:only-of-type {\n",
       "        vertical-align: middle;\n",
       "    }\n",
       "\n",
       "    .dataframe tbody tr th {\n",
       "        vertical-align: top;\n",
       "    }\n",
       "\n",
       "    .dataframe thead th {\n",
       "        text-align: right;\n",
       "    }\n",
       "</style>\n",
       "<table border=\"1\" class=\"dataframe\">\n",
       "  <thead>\n",
       "    <tr style=\"text-align: right;\">\n",
       "      <th></th>\n",
       "      <th>used_special_discount_Yes</th>\n",
       "    </tr>\n",
       "  </thead>\n",
       "  <tbody>\n",
       "    <tr>\n",
       "      <th>0</th>\n",
       "      <td>1</td>\n",
       "    </tr>\n",
       "    <tr>\n",
       "      <th>1</th>\n",
       "      <td>1</td>\n",
       "    </tr>\n",
       "    <tr>\n",
       "      <th>2</th>\n",
       "      <td>0</td>\n",
       "    </tr>\n",
       "    <tr>\n",
       "      <th>3</th>\n",
       "      <td>0</td>\n",
       "    </tr>\n",
       "    <tr>\n",
       "      <th>4</th>\n",
       "      <td>0</td>\n",
       "    </tr>\n",
       "  </tbody>\n",
       "</table>\n",
       "</div>"
      ],
      "text/plain": [
       "   used_special_discount_Yes\n",
       "0                          1\n",
       "1                          1\n",
       "2                          0\n",
       "3                          0\n",
       "4                          0"
      ]
     },
     "execution_count": 47,
     "metadata": {},
     "output_type": "execute_result"
    }
   ],
   "source": [
    "discount = pd.get_dummies(df[['used_special_discount']], drop_first=True)\n",
    "discount.head()"
   ]
  },
  {
   "cell_type": "code",
   "execution_count": 48,
   "id": "7fdf8cd1-b507-466a-a0b7-b65e2bb7f8a3",
   "metadata": {},
   "outputs": [
    {
     "data": {
      "text/html": [
       "<div>\n",
       "<style scoped>\n",
       "    .dataframe tbody tr th:only-of-type {\n",
       "        vertical-align: middle;\n",
       "    }\n",
       "\n",
       "    .dataframe tbody tr th {\n",
       "        vertical-align: top;\n",
       "    }\n",
       "\n",
       "    .dataframe thead th {\n",
       "        text-align: right;\n",
       "    }\n",
       "</style>\n",
       "<table border=\"1\" class=\"dataframe\">\n",
       "  <thead>\n",
       "    <tr style=\"text-align: right;\">\n",
       "      <th></th>\n",
       "      <th>internet_option_Mobile_Data</th>\n",
       "      <th>internet_option_Wi-Fi</th>\n",
       "    </tr>\n",
       "  </thead>\n",
       "  <tbody>\n",
       "    <tr>\n",
       "      <th>0</th>\n",
       "      <td>0</td>\n",
       "      <td>1</td>\n",
       "    </tr>\n",
       "    <tr>\n",
       "      <th>1</th>\n",
       "      <td>1</td>\n",
       "      <td>0</td>\n",
       "    </tr>\n",
       "    <tr>\n",
       "      <th>2</th>\n",
       "      <td>0</td>\n",
       "      <td>1</td>\n",
       "    </tr>\n",
       "    <tr>\n",
       "      <th>3</th>\n",
       "      <td>1</td>\n",
       "      <td>0</td>\n",
       "    </tr>\n",
       "    <tr>\n",
       "      <th>4</th>\n",
       "      <td>1</td>\n",
       "      <td>0</td>\n",
       "    </tr>\n",
       "  </tbody>\n",
       "</table>\n",
       "</div>"
      ],
      "text/plain": [
       "   internet_option_Mobile_Data  internet_option_Wi-Fi\n",
       "0                            0                      1\n",
       "1                            1                      0\n",
       "2                            0                      1\n",
       "3                            1                      0\n",
       "4                            1                      0"
      ]
     },
     "execution_count": 48,
     "metadata": {},
     "output_type": "execute_result"
    }
   ],
   "source": [
    "internet = pd.get_dummies(df[['internet_option']], drop_first=True)\n",
    "internet.head()"
   ]
  },
  {
   "cell_type": "code",
   "execution_count": 49,
   "id": "fc5876d5-2905-451a-9c15-5dcfb7859e93",
   "metadata": {},
   "outputs": [
    {
     "data": {
      "text/html": [
       "<div>\n",
       "<style scoped>\n",
       "    .dataframe tbody tr th:only-of-type {\n",
       "        vertical-align: middle;\n",
       "    }\n",
       "\n",
       "    .dataframe tbody tr th {\n",
       "        vertical-align: top;\n",
       "    }\n",
       "\n",
       "    .dataframe thead th {\n",
       "        text-align: right;\n",
       "    }\n",
       "</style>\n",
       "<table border=\"1\" class=\"dataframe\">\n",
       "  <thead>\n",
       "    <tr style=\"text-align: right;\">\n",
       "      <th></th>\n",
       "      <th>medium_of_operation_Both</th>\n",
       "      <th>medium_of_operation_Desktop</th>\n",
       "      <th>medium_of_operation_Smartphone</th>\n",
       "    </tr>\n",
       "  </thead>\n",
       "  <tbody>\n",
       "    <tr>\n",
       "      <th>0</th>\n",
       "      <td>0</td>\n",
       "      <td>0</td>\n",
       "      <td>0</td>\n",
       "    </tr>\n",
       "    <tr>\n",
       "      <th>1</th>\n",
       "      <td>0</td>\n",
       "      <td>1</td>\n",
       "      <td>0</td>\n",
       "    </tr>\n",
       "    <tr>\n",
       "      <th>2</th>\n",
       "      <td>0</td>\n",
       "      <td>1</td>\n",
       "      <td>0</td>\n",
       "    </tr>\n",
       "    <tr>\n",
       "      <th>3</th>\n",
       "      <td>0</td>\n",
       "      <td>1</td>\n",
       "      <td>0</td>\n",
       "    </tr>\n",
       "    <tr>\n",
       "      <th>4</th>\n",
       "      <td>0</td>\n",
       "      <td>0</td>\n",
       "      <td>1</td>\n",
       "    </tr>\n",
       "  </tbody>\n",
       "</table>\n",
       "</div>"
      ],
      "text/plain": [
       "   medium_of_operation_Both  medium_of_operation_Desktop  \\\n",
       "0                         0                            0   \n",
       "1                         0                            1   \n",
       "2                         0                            1   \n",
       "3                         0                            1   \n",
       "4                         0                            0   \n",
       "\n",
       "   medium_of_operation_Smartphone  \n",
       "0                               0  \n",
       "1                               0  \n",
       "2                               0  \n",
       "3                               0  \n",
       "4                               1  "
      ]
     },
     "execution_count": 49,
     "metadata": {},
     "output_type": "execute_result"
    }
   ],
   "source": [
    "medium = pd.get_dummies(df[['medium_of_operation']], drop_first=True)\n",
    "medium.head()"
   ]
  },
  {
   "cell_type": "code",
   "execution_count": 50,
   "id": "96b8a5d4-66af-4fb0-84f2-6eaa7b46e64f",
   "metadata": {},
   "outputs": [
    {
     "data": {
      "text/html": [
       "<div>\n",
       "<style scoped>\n",
       "    .dataframe tbody tr th:only-of-type {\n",
       "        vertical-align: middle;\n",
       "    }\n",
       "\n",
       "    .dataframe tbody tr th {\n",
       "        vertical-align: top;\n",
       "    }\n",
       "\n",
       "    .dataframe thead th {\n",
       "        text-align: right;\n",
       "    }\n",
       "</style>\n",
       "<table border=\"1\" class=\"dataframe\">\n",
       "  <thead>\n",
       "    <tr style=\"text-align: right;\">\n",
       "      <th></th>\n",
       "      <th>customer_id</th>\n",
       "      <th>Name</th>\n",
       "      <th>age</th>\n",
       "      <th>gender</th>\n",
       "      <th>security_no</th>\n",
       "      <th>region_category</th>\n",
       "      <th>membership_category</th>\n",
       "      <th>joined_through_referral</th>\n",
       "      <th>referral_id</th>\n",
       "      <th>preferred_offer_types</th>\n",
       "      <th>...</th>\n",
       "      <th>offer_application_preference_Yes</th>\n",
       "      <th>past_complaint_Yes</th>\n",
       "      <th>feedback_Poor Customer Service</th>\n",
       "      <th>feedback_Poor Product Quality</th>\n",
       "      <th>feedback_Poor Website</th>\n",
       "      <th>feedback_Products always in Stock</th>\n",
       "      <th>feedback_Quality Customer Care</th>\n",
       "      <th>feedback_Reasonable Price</th>\n",
       "      <th>feedback_Too many ads</th>\n",
       "      <th>feedback_User Friendly Website</th>\n",
       "    </tr>\n",
       "  </thead>\n",
       "  <tbody>\n",
       "    <tr>\n",
       "      <th>0</th>\n",
       "      <td>fffe4300490044003600300030003800</td>\n",
       "      <td>Pattie Morrisey</td>\n",
       "      <td>18</td>\n",
       "      <td>F</td>\n",
       "      <td>XW0DQ7H</td>\n",
       "      <td>Village</td>\n",
       "      <td>Platinum Membership</td>\n",
       "      <td>No</td>\n",
       "      <td>xxxxxxxx</td>\n",
       "      <td>Gift Vouchers/Coupons</td>\n",
       "      <td>...</td>\n",
       "      <td>1</td>\n",
       "      <td>0</td>\n",
       "      <td>0</td>\n",
       "      <td>0</td>\n",
       "      <td>0</td>\n",
       "      <td>1</td>\n",
       "      <td>0</td>\n",
       "      <td>0</td>\n",
       "      <td>0</td>\n",
       "      <td>0</td>\n",
       "    </tr>\n",
       "    <tr>\n",
       "      <th>1</th>\n",
       "      <td>fffe43004900440032003100300035003700</td>\n",
       "      <td>Traci Peery</td>\n",
       "      <td>32</td>\n",
       "      <td>F</td>\n",
       "      <td>5K0N3X1</td>\n",
       "      <td>City</td>\n",
       "      <td>Premium Membership</td>\n",
       "      <td>?</td>\n",
       "      <td>CID21329</td>\n",
       "      <td>Gift Vouchers/Coupons</td>\n",
       "      <td>...</td>\n",
       "      <td>0</td>\n",
       "      <td>1</td>\n",
       "      <td>0</td>\n",
       "      <td>0</td>\n",
       "      <td>0</td>\n",
       "      <td>0</td>\n",
       "      <td>1</td>\n",
       "      <td>0</td>\n",
       "      <td>0</td>\n",
       "      <td>0</td>\n",
       "    </tr>\n",
       "    <tr>\n",
       "      <th>2</th>\n",
       "      <td>fffe4300490044003100390032003600</td>\n",
       "      <td>Merideth Mcmeen</td>\n",
       "      <td>44</td>\n",
       "      <td>F</td>\n",
       "      <td>1F2TCL3</td>\n",
       "      <td>Town</td>\n",
       "      <td>No Membership</td>\n",
       "      <td>Yes</td>\n",
       "      <td>CID12313</td>\n",
       "      <td>Gift Vouchers/Coupons</td>\n",
       "      <td>...</td>\n",
       "      <td>1</td>\n",
       "      <td>1</td>\n",
       "      <td>0</td>\n",
       "      <td>0</td>\n",
       "      <td>1</td>\n",
       "      <td>0</td>\n",
       "      <td>0</td>\n",
       "      <td>0</td>\n",
       "      <td>0</td>\n",
       "      <td>0</td>\n",
       "    </tr>\n",
       "    <tr>\n",
       "      <th>3</th>\n",
       "      <td>fffe43004900440036003000330031003600</td>\n",
       "      <td>Eufemia Cardwell</td>\n",
       "      <td>37</td>\n",
       "      <td>M</td>\n",
       "      <td>VJGJ33N</td>\n",
       "      <td>City</td>\n",
       "      <td>No Membership</td>\n",
       "      <td>Yes</td>\n",
       "      <td>CID3793</td>\n",
       "      <td>Gift Vouchers/Coupons</td>\n",
       "      <td>...</td>\n",
       "      <td>1</td>\n",
       "      <td>1</td>\n",
       "      <td>0</td>\n",
       "      <td>0</td>\n",
       "      <td>1</td>\n",
       "      <td>0</td>\n",
       "      <td>0</td>\n",
       "      <td>0</td>\n",
       "      <td>0</td>\n",
       "      <td>0</td>\n",
       "    </tr>\n",
       "    <tr>\n",
       "      <th>4</th>\n",
       "      <td>fffe43004900440031003900350030003600</td>\n",
       "      <td>Meghan Kosak</td>\n",
       "      <td>31</td>\n",
       "      <td>F</td>\n",
       "      <td>SVZXCWB</td>\n",
       "      <td>City</td>\n",
       "      <td>No Membership</td>\n",
       "      <td>No</td>\n",
       "      <td>xxxxxxxx</td>\n",
       "      <td>Credit/Debit Card Offers</td>\n",
       "      <td>...</td>\n",
       "      <td>1</td>\n",
       "      <td>1</td>\n",
       "      <td>0</td>\n",
       "      <td>0</td>\n",
       "      <td>1</td>\n",
       "      <td>0</td>\n",
       "      <td>0</td>\n",
       "      <td>0</td>\n",
       "      <td>0</td>\n",
       "      <td>0</td>\n",
       "    </tr>\n",
       "  </tbody>\n",
       "</table>\n",
       "<p>5 rows × 57 columns</p>\n",
       "</div>"
      ],
      "text/plain": [
       "                            customer_id              Name  age gender  \\\n",
       "0      fffe4300490044003600300030003800   Pattie Morrisey   18      F   \n",
       "1  fffe43004900440032003100300035003700       Traci Peery   32      F   \n",
       "2      fffe4300490044003100390032003600   Merideth Mcmeen   44      F   \n",
       "3  fffe43004900440036003000330031003600  Eufemia Cardwell   37      M   \n",
       "4  fffe43004900440031003900350030003600      Meghan Kosak   31      F   \n",
       "\n",
       "  security_no region_category  membership_category joined_through_referral  \\\n",
       "0     XW0DQ7H         Village  Platinum Membership                      No   \n",
       "1     5K0N3X1            City   Premium Membership                       ?   \n",
       "2     1F2TCL3            Town        No Membership                     Yes   \n",
       "3     VJGJ33N            City        No Membership                     Yes   \n",
       "4     SVZXCWB            City        No Membership                      No   \n",
       "\n",
       "  referral_id     preferred_offer_types  ... offer_application_preference_Yes  \\\n",
       "0    xxxxxxxx     Gift Vouchers/Coupons  ...                                1   \n",
       "1    CID21329     Gift Vouchers/Coupons  ...                                0   \n",
       "2    CID12313     Gift Vouchers/Coupons  ...                                1   \n",
       "3     CID3793     Gift Vouchers/Coupons  ...                                1   \n",
       "4    xxxxxxxx  Credit/Debit Card Offers  ...                                1   \n",
       "\n",
       "  past_complaint_Yes  feedback_Poor Customer Service  \\\n",
       "0                  0                               0   \n",
       "1                  1                               0   \n",
       "2                  1                               0   \n",
       "3                  1                               0   \n",
       "4                  1                               0   \n",
       "\n",
       "   feedback_Poor Product Quality  feedback_Poor Website  \\\n",
       "0                              0                      0   \n",
       "1                              0                      0   \n",
       "2                              0                      1   \n",
       "3                              0                      1   \n",
       "4                              0                      1   \n",
       "\n",
       "  feedback_Products always in Stock  feedback_Quality Customer Care  \\\n",
       "0                                 1                               0   \n",
       "1                                 0                               1   \n",
       "2                                 0                               0   \n",
       "3                                 0                               0   \n",
       "4                                 0                               0   \n",
       "\n",
       "  feedback_Reasonable Price feedback_Too many ads  \\\n",
       "0                         0                     0   \n",
       "1                         0                     0   \n",
       "2                         0                     0   \n",
       "3                         0                     0   \n",
       "4                         0                     0   \n",
       "\n",
       "  feedback_User Friendly Website  \n",
       "0                              0  \n",
       "1                              0  \n",
       "2                              0  \n",
       "3                              0  \n",
       "4                              0  \n",
       "\n",
       "[5 rows x 57 columns]"
      ]
     },
     "execution_count": 50,
     "metadata": {},
     "output_type": "execute_result"
    }
   ],
   "source": [
    "df_train = pd.concat([df, gender, region, membership, referal, offer, medium, internet, discount, application, complaint, feedback ], axis = 1)\n",
    "df_train.head()"
   ]
  },
  {
   "cell_type": "code",
   "execution_count": 51,
   "id": "34e731d1-4452-452e-a13c-c8609ec84358",
   "metadata": {},
   "outputs": [
    {
     "data": {
      "text/plain": [
       "(36992, 57)"
      ]
     },
     "execution_count": 51,
     "metadata": {},
     "output_type": "execute_result"
    }
   ],
   "source": [
    "df_train.shape"
   ]
  },
  {
   "cell_type": "code",
   "execution_count": 52,
   "id": "bf089fbf-5f7a-4a82-a43e-b34dc636fff6",
   "metadata": {},
   "outputs": [],
   "source": [
    "df_train.drop([\"customer_id\", \"Name\", \"gender\", \"security_no\", \"region_category\", \"membership_category\", \"joined_through_referral\", \"referral_id\", \"preferred_offer_types\", \"medium_of_operation\", \"internet_option\", \"used_special_discount\", \"offer_application_preference\", \"past_complaint\", \"feedback\", \"avg_frequency_login_days\" ], axis = 1, inplace = True)"
   ]
  },
  {
   "cell_type": "code",
   "execution_count": 53,
   "id": "11fbfd66-138c-46bf-8f31-c8e0431522df",
   "metadata": {},
   "outputs": [
    {
     "data": {
      "text/html": [
       "<div>\n",
       "<style scoped>\n",
       "    .dataframe tbody tr th:only-of-type {\n",
       "        vertical-align: middle;\n",
       "    }\n",
       "\n",
       "    .dataframe tbody tr th {\n",
       "        vertical-align: top;\n",
       "    }\n",
       "\n",
       "    .dataframe thead th {\n",
       "        text-align: right;\n",
       "    }\n",
       "</style>\n",
       "<table border=\"1\" class=\"dataframe\">\n",
       "  <thead>\n",
       "    <tr style=\"text-align: right;\">\n",
       "      <th></th>\n",
       "      <th>age</th>\n",
       "      <th>days_since_last_login</th>\n",
       "      <th>avg_time_spent</th>\n",
       "      <th>avg_transaction_value</th>\n",
       "      <th>points_in_wallet</th>\n",
       "      <th>churn_risk_score</th>\n",
       "      <th>joining_day</th>\n",
       "      <th>joining_month</th>\n",
       "      <th>joining_year</th>\n",
       "      <th>last_visit_time_hour</th>\n",
       "      <th>...</th>\n",
       "      <th>offer_application_preference_Yes</th>\n",
       "      <th>past_complaint_Yes</th>\n",
       "      <th>feedback_Poor Customer Service</th>\n",
       "      <th>feedback_Poor Product Quality</th>\n",
       "      <th>feedback_Poor Website</th>\n",
       "      <th>feedback_Products always in Stock</th>\n",
       "      <th>feedback_Quality Customer Care</th>\n",
       "      <th>feedback_Reasonable Price</th>\n",
       "      <th>feedback_Too many ads</th>\n",
       "      <th>feedback_User Friendly Website</th>\n",
       "    </tr>\n",
       "  </thead>\n",
       "  <tbody>\n",
       "    <tr>\n",
       "      <th>0</th>\n",
       "      <td>18</td>\n",
       "      <td>17</td>\n",
       "      <td>300.63</td>\n",
       "      <td>53005.25</td>\n",
       "      <td>781.75</td>\n",
       "      <td>2</td>\n",
       "      <td>17</td>\n",
       "      <td>8</td>\n",
       "      <td>2017</td>\n",
       "      <td>16</td>\n",
       "      <td>...</td>\n",
       "      <td>1</td>\n",
       "      <td>0</td>\n",
       "      <td>0</td>\n",
       "      <td>0</td>\n",
       "      <td>0</td>\n",
       "      <td>1</td>\n",
       "      <td>0</td>\n",
       "      <td>0</td>\n",
       "      <td>0</td>\n",
       "      <td>0</td>\n",
       "    </tr>\n",
       "    <tr>\n",
       "      <th>1</th>\n",
       "      <td>32</td>\n",
       "      <td>16</td>\n",
       "      <td>306.34</td>\n",
       "      <td>12838.38</td>\n",
       "      <td>697.62</td>\n",
       "      <td>1</td>\n",
       "      <td>28</td>\n",
       "      <td>8</td>\n",
       "      <td>2017</td>\n",
       "      <td>12</td>\n",
       "      <td>...</td>\n",
       "      <td>0</td>\n",
       "      <td>1</td>\n",
       "      <td>0</td>\n",
       "      <td>0</td>\n",
       "      <td>0</td>\n",
       "      <td>0</td>\n",
       "      <td>1</td>\n",
       "      <td>0</td>\n",
       "      <td>0</td>\n",
       "      <td>0</td>\n",
       "    </tr>\n",
       "    <tr>\n",
       "      <th>2</th>\n",
       "      <td>44</td>\n",
       "      <td>14</td>\n",
       "      <td>516.16</td>\n",
       "      <td>21027.00</td>\n",
       "      <td>500.69</td>\n",
       "      <td>5</td>\n",
       "      <td>11</td>\n",
       "      <td>11</td>\n",
       "      <td>2016</td>\n",
       "      <td>22</td>\n",
       "      <td>...</td>\n",
       "      <td>1</td>\n",
       "      <td>1</td>\n",
       "      <td>0</td>\n",
       "      <td>0</td>\n",
       "      <td>1</td>\n",
       "      <td>0</td>\n",
       "      <td>0</td>\n",
       "      <td>0</td>\n",
       "      <td>0</td>\n",
       "      <td>0</td>\n",
       "    </tr>\n",
       "    <tr>\n",
       "      <th>3</th>\n",
       "      <td>37</td>\n",
       "      <td>11</td>\n",
       "      <td>53.27</td>\n",
       "      <td>25239.56</td>\n",
       "      <td>567.66</td>\n",
       "      <td>5</td>\n",
       "      <td>29</td>\n",
       "      <td>10</td>\n",
       "      <td>2016</td>\n",
       "      <td>15</td>\n",
       "      <td>...</td>\n",
       "      <td>1</td>\n",
       "      <td>1</td>\n",
       "      <td>0</td>\n",
       "      <td>0</td>\n",
       "      <td>1</td>\n",
       "      <td>0</td>\n",
       "      <td>0</td>\n",
       "      <td>0</td>\n",
       "      <td>0</td>\n",
       "      <td>0</td>\n",
       "    </tr>\n",
       "    <tr>\n",
       "      <th>4</th>\n",
       "      <td>31</td>\n",
       "      <td>20</td>\n",
       "      <td>113.13</td>\n",
       "      <td>24483.66</td>\n",
       "      <td>663.06</td>\n",
       "      <td>5</td>\n",
       "      <td>12</td>\n",
       "      <td>9</td>\n",
       "      <td>2017</td>\n",
       "      <td>15</td>\n",
       "      <td>...</td>\n",
       "      <td>1</td>\n",
       "      <td>1</td>\n",
       "      <td>0</td>\n",
       "      <td>0</td>\n",
       "      <td>1</td>\n",
       "      <td>0</td>\n",
       "      <td>0</td>\n",
       "      <td>0</td>\n",
       "      <td>0</td>\n",
       "      <td>0</td>\n",
       "    </tr>\n",
       "  </tbody>\n",
       "</table>\n",
       "<p>5 rows × 41 columns</p>\n",
       "</div>"
      ],
      "text/plain": [
       "   age  days_since_last_login  avg_time_spent  avg_transaction_value  \\\n",
       "0   18                     17          300.63               53005.25   \n",
       "1   32                     16          306.34               12838.38   \n",
       "2   44                     14          516.16               21027.00   \n",
       "3   37                     11           53.27               25239.56   \n",
       "4   31                     20          113.13               24483.66   \n",
       "\n",
       "   points_in_wallet  churn_risk_score  joining_day  joining_month  \\\n",
       "0            781.75                 2           17              8   \n",
       "1            697.62                 1           28              8   \n",
       "2            500.69                 5           11             11   \n",
       "3            567.66                 5           29             10   \n",
       "4            663.06                 5           12              9   \n",
       "\n",
       "   joining_year  last_visit_time_hour  ...  offer_application_preference_Yes  \\\n",
       "0          2017                    16  ...                                 1   \n",
       "1          2017                    12  ...                                 0   \n",
       "2          2016                    22  ...                                 1   \n",
       "3          2016                    15  ...                                 1   \n",
       "4          2017                    15  ...                                 1   \n",
       "\n",
       "   past_complaint_Yes  feedback_Poor Customer Service  \\\n",
       "0                   0                               0   \n",
       "1                   1                               0   \n",
       "2                   1                               0   \n",
       "3                   1                               0   \n",
       "4                   1                               0   \n",
       "\n",
       "   feedback_Poor Product Quality  feedback_Poor Website  \\\n",
       "0                              0                      0   \n",
       "1                              0                      0   \n",
       "2                              0                      1   \n",
       "3                              0                      1   \n",
       "4                              0                      1   \n",
       "\n",
       "   feedback_Products always in Stock  feedback_Quality Customer Care  \\\n",
       "0                                  1                               0   \n",
       "1                                  0                               1   \n",
       "2                                  0                               0   \n",
       "3                                  0                               0   \n",
       "4                                  0                               0   \n",
       "\n",
       "   feedback_Reasonable Price  feedback_Too many ads  \\\n",
       "0                          0                      0   \n",
       "1                          0                      0   \n",
       "2                          0                      0   \n",
       "3                          0                      0   \n",
       "4                          0                      0   \n",
       "\n",
       "   feedback_User Friendly Website  \n",
       "0                               0  \n",
       "1                               0  \n",
       "2                               0  \n",
       "3                               0  \n",
       "4                               0  \n",
       "\n",
       "[5 rows x 41 columns]"
      ]
     },
     "execution_count": 53,
     "metadata": {},
     "output_type": "execute_result"
    }
   ],
   "source": [
    "df_train.head()"
   ]
  },
  {
   "cell_type": "code",
   "execution_count": 54,
   "id": "854cd602-8cdd-4d71-be8c-ba2432e9c637",
   "metadata": {},
   "outputs": [
    {
     "data": {
      "text/html": [
       "<div>\n",
       "<style scoped>\n",
       "    .dataframe tbody tr th:only-of-type {\n",
       "        vertical-align: middle;\n",
       "    }\n",
       "\n",
       "    .dataframe tbody tr th {\n",
       "        vertical-align: top;\n",
       "    }\n",
       "\n",
       "    .dataframe thead th {\n",
       "        text-align: right;\n",
       "    }\n",
       "</style>\n",
       "<table border=\"1\" class=\"dataframe\">\n",
       "  <thead>\n",
       "    <tr style=\"text-align: right;\">\n",
       "      <th></th>\n",
       "      <th>customer_id</th>\n",
       "      <th>Name</th>\n",
       "      <th>age</th>\n",
       "      <th>gender</th>\n",
       "      <th>security_no</th>\n",
       "      <th>region_category</th>\n",
       "      <th>membership_category</th>\n",
       "      <th>joining_date</th>\n",
       "      <th>joined_through_referral</th>\n",
       "      <th>referral_id</th>\n",
       "      <th>...</th>\n",
       "      <th>days_since_last_login</th>\n",
       "      <th>avg_time_spent</th>\n",
       "      <th>avg_transaction_value</th>\n",
       "      <th>avg_frequency_login_days</th>\n",
       "      <th>points_in_wallet</th>\n",
       "      <th>used_special_discount</th>\n",
       "      <th>offer_application_preference</th>\n",
       "      <th>past_complaint</th>\n",
       "      <th>complaint_status</th>\n",
       "      <th>feedback</th>\n",
       "    </tr>\n",
       "  </thead>\n",
       "  <tbody>\n",
       "    <tr>\n",
       "      <th>0</th>\n",
       "      <td>fffe43004900440031003700300030003400</td>\n",
       "      <td>Alethia Meints</td>\n",
       "      <td>50</td>\n",
       "      <td>F</td>\n",
       "      <td>OQJ1XAY</td>\n",
       "      <td>Village</td>\n",
       "      <td>Premium Membership</td>\n",
       "      <td>2015-11-02</td>\n",
       "      <td>No</td>\n",
       "      <td>xxxxxxxx</td>\n",
       "      <td>...</td>\n",
       "      <td>12</td>\n",
       "      <td>386.26</td>\n",
       "      <td>40721.44</td>\n",
       "      <td>7.0</td>\n",
       "      <td>733.830000</td>\n",
       "      <td>Yes</td>\n",
       "      <td>No</td>\n",
       "      <td>No</td>\n",
       "      <td>Not Applicable</td>\n",
       "      <td>Poor Product Quality</td>\n",
       "    </tr>\n",
       "    <tr>\n",
       "      <th>1</th>\n",
       "      <td>fffe43004900440031003900370037003300</td>\n",
       "      <td>Ming Lopez</td>\n",
       "      <td>41</td>\n",
       "      <td>M</td>\n",
       "      <td>OUQRPKO</td>\n",
       "      <td>Village</td>\n",
       "      <td>Gold Membership</td>\n",
       "      <td>2016-03-01</td>\n",
       "      <td>No</td>\n",
       "      <td>xxxxxxxx</td>\n",
       "      <td>...</td>\n",
       "      <td>11</td>\n",
       "      <td>37.80</td>\n",
       "      <td>9644.40</td>\n",
       "      <td>9.0</td>\n",
       "      <td>726.000000</td>\n",
       "      <td>Yes</td>\n",
       "      <td>No</td>\n",
       "      <td>No</td>\n",
       "      <td>Not Applicable</td>\n",
       "      <td>Poor Website</td>\n",
       "    </tr>\n",
       "    <tr>\n",
       "      <th>2</th>\n",
       "      <td>fffe43004900440034003800360037003000</td>\n",
       "      <td>Carina Flannigan</td>\n",
       "      <td>31</td>\n",
       "      <td>F</td>\n",
       "      <td>02J2RE7</td>\n",
       "      <td>Town</td>\n",
       "      <td>Silver Membership</td>\n",
       "      <td>2017-03-03</td>\n",
       "      <td>No</td>\n",
       "      <td>xxxxxxxx</td>\n",
       "      <td>...</td>\n",
       "      <td>18</td>\n",
       "      <td>215.36</td>\n",
       "      <td>3693.25</td>\n",
       "      <td>21.0</td>\n",
       "      <td>713.780000</td>\n",
       "      <td>Yes</td>\n",
       "      <td>No</td>\n",
       "      <td>Yes</td>\n",
       "      <td>Solved in Follow-up</td>\n",
       "      <td>No reason specified</td>\n",
       "    </tr>\n",
       "    <tr>\n",
       "      <th>3</th>\n",
       "      <td>fffe43004900440036003200370033003400</td>\n",
       "      <td>Kyung Wanner</td>\n",
       "      <td>64</td>\n",
       "      <td>M</td>\n",
       "      <td>5YEQIF1</td>\n",
       "      <td>Town</td>\n",
       "      <td>Silver Membership</td>\n",
       "      <td>2017-08-18</td>\n",
       "      <td>Yes</td>\n",
       "      <td>CID8941</td>\n",
       "      <td>...</td>\n",
       "      <td>-999</td>\n",
       "      <td>44.57</td>\n",
       "      <td>36809.56</td>\n",
       "      <td>11.0</td>\n",
       "      <td>744.970000</td>\n",
       "      <td>Yes</td>\n",
       "      <td>No</td>\n",
       "      <td>Yes</td>\n",
       "      <td>No Information Available</td>\n",
       "      <td>Too many ads</td>\n",
       "    </tr>\n",
       "    <tr>\n",
       "      <th>4</th>\n",
       "      <td>fffe43004900440035003000370031003900</td>\n",
       "      <td>Enola Gatto</td>\n",
       "      <td>16</td>\n",
       "      <td>F</td>\n",
       "      <td>100RYB5</td>\n",
       "      <td>Town</td>\n",
       "      <td>No Membership</td>\n",
       "      <td>2015-05-05</td>\n",
       "      <td>Yes</td>\n",
       "      <td>CID5690</td>\n",
       "      <td>...</td>\n",
       "      <td>6</td>\n",
       "      <td>349.88</td>\n",
       "      <td>40675.86</td>\n",
       "      <td>8.0</td>\n",
       "      <td>299.048351</td>\n",
       "      <td>No</td>\n",
       "      <td>Yes</td>\n",
       "      <td>Yes</td>\n",
       "      <td>Solved in Follow-up</td>\n",
       "      <td>Poor Website</td>\n",
       "    </tr>\n",
       "  </tbody>\n",
       "</table>\n",
       "<p>5 rows × 24 columns</p>\n",
       "</div>"
      ],
      "text/plain": [
       "                            customer_id              Name  age gender  \\\n",
       "0  fffe43004900440031003700300030003400    Alethia Meints   50      F   \n",
       "1  fffe43004900440031003900370037003300        Ming Lopez   41      M   \n",
       "2  fffe43004900440034003800360037003000  Carina Flannigan   31      F   \n",
       "3  fffe43004900440036003200370033003400      Kyung Wanner   64      M   \n",
       "4  fffe43004900440035003000370031003900       Enola Gatto   16      F   \n",
       "\n",
       "  security_no region_category membership_category joining_date  \\\n",
       "0     OQJ1XAY         Village  Premium Membership   2015-11-02   \n",
       "1     OUQRPKO         Village     Gold Membership   2016-03-01   \n",
       "2     02J2RE7            Town   Silver Membership   2017-03-03   \n",
       "3     5YEQIF1            Town   Silver Membership   2017-08-18   \n",
       "4     100RYB5            Town       No Membership   2015-05-05   \n",
       "\n",
       "  joined_through_referral referral_id  ... days_since_last_login  \\\n",
       "0                      No    xxxxxxxx  ...                    12   \n",
       "1                      No    xxxxxxxx  ...                    11   \n",
       "2                      No    xxxxxxxx  ...                    18   \n",
       "3                     Yes     CID8941  ...                  -999   \n",
       "4                     Yes     CID5690  ...                     6   \n",
       "\n",
       "  avg_time_spent avg_transaction_value avg_frequency_login_days  \\\n",
       "0         386.26              40721.44                      7.0   \n",
       "1          37.80               9644.40                      9.0   \n",
       "2         215.36               3693.25                     21.0   \n",
       "3          44.57              36809.56                     11.0   \n",
       "4         349.88              40675.86                      8.0   \n",
       "\n",
       "   points_in_wallet  used_special_discount  offer_application_preference  \\\n",
       "0        733.830000                    Yes                            No   \n",
       "1        726.000000                    Yes                            No   \n",
       "2        713.780000                    Yes                            No   \n",
       "3        744.970000                    Yes                            No   \n",
       "4        299.048351                     No                           Yes   \n",
       "\n",
       "  past_complaint          complaint_status              feedback  \n",
       "0             No            Not Applicable  Poor Product Quality  \n",
       "1             No            Not Applicable          Poor Website  \n",
       "2            Yes       Solved in Follow-up   No reason specified  \n",
       "3            Yes  No Information Available          Too many ads  \n",
       "4            Yes       Solved in Follow-up          Poor Website  \n",
       "\n",
       "[5 rows x 24 columns]"
      ]
     },
     "execution_count": 54,
     "metadata": {},
     "output_type": "execute_result"
    }
   ],
   "source": [
    "tf = pd.read_csv(\"dataset/test.csv\")\n",
    "tf.head()"
   ]
  },
  {
   "cell_type": "markdown",
   "id": "ab3a3bf7-e030-459e-a473-dce3122b0a7c",
   "metadata": {},
   "source": [
    "## Test daatset"
   ]
  },
  {
   "cell_type": "code",
   "execution_count": 55,
   "id": "cfc0bc52-783f-475c-a848-4e511b22b1ab",
   "metadata": {},
   "outputs": [
    {
     "data": {
      "text/html": [
       "<div>\n",
       "<style scoped>\n",
       "    .dataframe tbody tr th:only-of-type {\n",
       "        vertical-align: middle;\n",
       "    }\n",
       "\n",
       "    .dataframe tbody tr th {\n",
       "        vertical-align: top;\n",
       "    }\n",
       "\n",
       "    .dataframe thead th {\n",
       "        text-align: right;\n",
       "    }\n",
       "</style>\n",
       "<table border=\"1\" class=\"dataframe\">\n",
       "  <thead>\n",
       "    <tr style=\"text-align: right;\">\n",
       "      <th></th>\n",
       "      <th>age</th>\n",
       "      <th>days_since_last_login</th>\n",
       "      <th>avg_time_spent</th>\n",
       "      <th>avg_transaction_value</th>\n",
       "      <th>points_in_wallet</th>\n",
       "      <th>joining_day</th>\n",
       "      <th>joining_month</th>\n",
       "      <th>joining_year</th>\n",
       "      <th>last_visit_time_hour</th>\n",
       "      <th>last_visit_time_minutes</th>\n",
       "      <th>...</th>\n",
       "      <th>offer_application_preference_Yes</th>\n",
       "      <th>past_complaint_Yes</th>\n",
       "      <th>feedback_Poor Customer Service</th>\n",
       "      <th>feedback_Poor Product Quality</th>\n",
       "      <th>feedback_Poor Website</th>\n",
       "      <th>feedback_Products always in Stock</th>\n",
       "      <th>feedback_Quality Customer Care</th>\n",
       "      <th>feedback_Reasonable Price</th>\n",
       "      <th>feedback_Too many ads</th>\n",
       "      <th>feedback_User Friendly Website</th>\n",
       "    </tr>\n",
       "  </thead>\n",
       "  <tbody>\n",
       "    <tr>\n",
       "      <th>0</th>\n",
       "      <td>50</td>\n",
       "      <td>12</td>\n",
       "      <td>386.26</td>\n",
       "      <td>40721.44</td>\n",
       "      <td>733.830000</td>\n",
       "      <td>2</td>\n",
       "      <td>11</td>\n",
       "      <td>2015</td>\n",
       "      <td>7</td>\n",
       "      <td>19</td>\n",
       "      <td>...</td>\n",
       "      <td>0</td>\n",
       "      <td>0</td>\n",
       "      <td>0</td>\n",
       "      <td>1</td>\n",
       "      <td>0</td>\n",
       "      <td>0</td>\n",
       "      <td>0</td>\n",
       "      <td>0</td>\n",
       "      <td>0</td>\n",
       "      <td>0</td>\n",
       "    </tr>\n",
       "    <tr>\n",
       "      <th>1</th>\n",
       "      <td>41</td>\n",
       "      <td>11</td>\n",
       "      <td>37.80</td>\n",
       "      <td>9644.40</td>\n",
       "      <td>726.000000</td>\n",
       "      <td>1</td>\n",
       "      <td>3</td>\n",
       "      <td>2016</td>\n",
       "      <td>22</td>\n",
       "      <td>21</td>\n",
       "      <td>...</td>\n",
       "      <td>0</td>\n",
       "      <td>0</td>\n",
       "      <td>0</td>\n",
       "      <td>0</td>\n",
       "      <td>1</td>\n",
       "      <td>0</td>\n",
       "      <td>0</td>\n",
       "      <td>0</td>\n",
       "      <td>0</td>\n",
       "      <td>0</td>\n",
       "    </tr>\n",
       "    <tr>\n",
       "      <th>2</th>\n",
       "      <td>31</td>\n",
       "      <td>18</td>\n",
       "      <td>215.36</td>\n",
       "      <td>3693.25</td>\n",
       "      <td>713.780000</td>\n",
       "      <td>3</td>\n",
       "      <td>3</td>\n",
       "      <td>2017</td>\n",
       "      <td>16</td>\n",
       "      <td>40</td>\n",
       "      <td>...</td>\n",
       "      <td>0</td>\n",
       "      <td>1</td>\n",
       "      <td>0</td>\n",
       "      <td>0</td>\n",
       "      <td>0</td>\n",
       "      <td>0</td>\n",
       "      <td>0</td>\n",
       "      <td>0</td>\n",
       "      <td>0</td>\n",
       "      <td>0</td>\n",
       "    </tr>\n",
       "    <tr>\n",
       "      <th>3</th>\n",
       "      <td>64</td>\n",
       "      <td>-999</td>\n",
       "      <td>44.57</td>\n",
       "      <td>36809.56</td>\n",
       "      <td>744.970000</td>\n",
       "      <td>18</td>\n",
       "      <td>8</td>\n",
       "      <td>2017</td>\n",
       "      <td>14</td>\n",
       "      <td>56</td>\n",
       "      <td>...</td>\n",
       "      <td>0</td>\n",
       "      <td>1</td>\n",
       "      <td>0</td>\n",
       "      <td>0</td>\n",
       "      <td>0</td>\n",
       "      <td>0</td>\n",
       "      <td>0</td>\n",
       "      <td>0</td>\n",
       "      <td>1</td>\n",
       "      <td>0</td>\n",
       "    </tr>\n",
       "    <tr>\n",
       "      <th>4</th>\n",
       "      <td>16</td>\n",
       "      <td>6</td>\n",
       "      <td>349.88</td>\n",
       "      <td>40675.86</td>\n",
       "      <td>299.048351</td>\n",
       "      <td>5</td>\n",
       "      <td>5</td>\n",
       "      <td>2015</td>\n",
       "      <td>2</td>\n",
       "      <td>57</td>\n",
       "      <td>...</td>\n",
       "      <td>1</td>\n",
       "      <td>1</td>\n",
       "      <td>0</td>\n",
       "      <td>0</td>\n",
       "      <td>1</td>\n",
       "      <td>0</td>\n",
       "      <td>0</td>\n",
       "      <td>0</td>\n",
       "      <td>0</td>\n",
       "      <td>0</td>\n",
       "    </tr>\n",
       "  </tbody>\n",
       "</table>\n",
       "<p>5 rows × 40 columns</p>\n",
       "</div>"
      ],
      "text/plain": [
       "   age  days_since_last_login  avg_time_spent  avg_transaction_value  \\\n",
       "0   50                     12          386.26               40721.44   \n",
       "1   41                     11           37.80                9644.40   \n",
       "2   31                     18          215.36                3693.25   \n",
       "3   64                   -999           44.57               36809.56   \n",
       "4   16                      6          349.88               40675.86   \n",
       "\n",
       "   points_in_wallet  joining_day  joining_month  joining_year  \\\n",
       "0        733.830000            2             11          2015   \n",
       "1        726.000000            1              3          2016   \n",
       "2        713.780000            3              3          2017   \n",
       "3        744.970000           18              8          2017   \n",
       "4        299.048351            5              5          2015   \n",
       "\n",
       "   last_visit_time_hour  last_visit_time_minutes  ...  \\\n",
       "0                     7                       19  ...   \n",
       "1                    22                       21  ...   \n",
       "2                    16                       40  ...   \n",
       "3                    14                       56  ...   \n",
       "4                     2                       57  ...   \n",
       "\n",
       "   offer_application_preference_Yes  past_complaint_Yes  \\\n",
       "0                                 0                   0   \n",
       "1                                 0                   0   \n",
       "2                                 0                   1   \n",
       "3                                 0                   1   \n",
       "4                                 1                   1   \n",
       "\n",
       "   feedback_Poor Customer Service  feedback_Poor Product Quality  \\\n",
       "0                               0                              1   \n",
       "1                               0                              0   \n",
       "2                               0                              0   \n",
       "3                               0                              0   \n",
       "4                               0                              0   \n",
       "\n",
       "   feedback_Poor Website  feedback_Products always in Stock  \\\n",
       "0                      0                                  0   \n",
       "1                      1                                  0   \n",
       "2                      0                                  0   \n",
       "3                      0                                  0   \n",
       "4                      1                                  0   \n",
       "\n",
       "   feedback_Quality Customer Care  feedback_Reasonable Price  \\\n",
       "0                               0                          0   \n",
       "1                               0                          0   \n",
       "2                               0                          0   \n",
       "3                               0                          0   \n",
       "4                               0                          0   \n",
       "\n",
       "   feedback_Too many ads  feedback_User Friendly Website  \n",
       "0                      0                               0  \n",
       "1                      0                               0  \n",
       "2                      0                               0  \n",
       "3                      1                               0  \n",
       "4                      0                               0  \n",
       "\n",
       "[5 rows x 40 columns]"
      ]
     },
     "execution_count": 55,
     "metadata": {},
     "output_type": "execute_result"
    }
   ],
   "source": [
    "tf['region_category']= tf['region_category'].fillna(tf['region_category'].mode()[0])\n",
    "tf['preferred_offer_types']= tf['preferred_offer_types'].fillna(tf['preferred_offer_types'].mode()[0])\n",
    "\n",
    "# handle numerical missing column\n",
    "tf['points_in_wallet']= tf['points_in_wallet'].fillna(tf['points_in_wallet'].mean())\n",
    "\n",
    "# drop one column\n",
    "tf.drop('complaint_status', axis=1, inplace=True)\n",
    "\n",
    "# Exploratory data analysis\n",
    "tf[\"joining_day\"] = pd.to_datetime(tf.joining_date, format=\"%Y/%m/%d\").dt.day\n",
    "tf[\"joining_month\"] = pd.to_datetime(tf.joining_date, format=\"%Y/%m/%d\").dt.month\n",
    "tf[\"joining_year\"] = pd.to_datetime(tf.joining_date, format=\"%Y/%m/%d\").dt.year\n",
    "\n",
    "tf.drop([\"joining_date\"], axis=1, inplace=True)\n",
    "\n",
    "tf[['last_visit_time_hour','last_visit_time_minutes','last_visit_time_seconds']] = tf['last_visit_time'].astype(str).str.split(':', expand=True).astype(int)\n",
    "\n",
    "tf.drop([\"last_visit_time\"], axis = 1, inplace = True)\n",
    "\n",
    "gender = pd.get_dummies(tf[['gender']], drop_first=True)\n",
    "region = pd.get_dummies(tf[['region_category']], drop_first=True)\n",
    "membership = pd.get_dummies(tf[['membership_category']], drop_first=True)\n",
    "referal = pd.get_dummies(tf[['joined_through_referral']], drop_first=True)\n",
    "offer = pd.get_dummies(tf[['preferred_offer_types']], drop_first=True)\n",
    "medium = pd.get_dummies(tf[['medium_of_operation']], drop_first=True)\n",
    "internet = pd.get_dummies(tf[['internet_option']], drop_first=True)\n",
    "discount = pd.get_dummies(tf[['used_special_discount']], drop_first=True)\n",
    "application = pd.get_dummies(tf[['offer_application_preference']], drop_first=True)\n",
    "complaint = pd.get_dummies(tf[['past_complaint']], drop_first=True)\n",
    "feedback = pd.get_dummies(tf[['feedback']], drop_first=True)\n",
    "\n",
    "df_test = pd.concat([tf, gender, region, membership, referal, offer, medium, internet, discount, application, complaint, feedback ], axis = 1)\n",
    "\n",
    "df_test.drop([\"customer_id\", \"Name\", \"gender\", \"security_no\", \"region_category\", \"membership_category\", \"joined_through_referral\", \"referral_id\", \"preferred_offer_types\", \"medium_of_operation\", \"internet_option\", \"used_special_discount\", \"offer_application_preference\", \"past_complaint\", \"feedback\", \"avg_frequency_login_days\" ], axis = 1, inplace = True)\n",
    "\n",
    "df_test.head()"
   ]
  },
  {
   "cell_type": "code",
   "execution_count": 56,
   "id": "0a150161-8331-4d98-8f01-3ccd10b7f979",
   "metadata": {},
   "outputs": [
    {
     "data": {
      "text/plain": [
       "Index(['age', 'days_since_last_login', 'avg_time_spent',\n",
       "       'avg_transaction_value', 'points_in_wallet', 'churn_risk_score',\n",
       "       'joining_day', 'joining_month', 'joining_year', 'last_visit_time_hour',\n",
       "       'last_visit_time_minutes', 'last_visit_time_seconds', 'gender_F',\n",
       "       'gender_M', 'region_category_Town', 'region_category_Village',\n",
       "       'membership_category_Gold Membership',\n",
       "       'membership_category_No Membership',\n",
       "       'membership_category_Platinum Membership',\n",
       "       'membership_category_Premium Membership',\n",
       "       'membership_category_Silver Membership', 'joined_through_referral_No',\n",
       "       'joined_through_referral_Yes',\n",
       "       'preferred_offer_types_Gift Vouchers/Coupons',\n",
       "       'preferred_offer_types_Without Offers', 'medium_of_operation_Both',\n",
       "       'medium_of_operation_Desktop', 'medium_of_operation_Smartphone',\n",
       "       'internet_option_Mobile_Data', 'internet_option_Wi-Fi',\n",
       "       'used_special_discount_Yes', 'offer_application_preference_Yes',\n",
       "       'past_complaint_Yes', 'feedback_Poor Customer Service',\n",
       "       'feedback_Poor Product Quality', 'feedback_Poor Website',\n",
       "       'feedback_Products always in Stock', 'feedback_Quality Customer Care',\n",
       "       'feedback_Reasonable Price', 'feedback_Too many ads',\n",
       "       'feedback_User Friendly Website'],\n",
       "      dtype='object')"
      ]
     },
     "execution_count": 56,
     "metadata": {},
     "output_type": "execute_result"
    }
   ],
   "source": [
    "df_train.columns"
   ]
  },
  {
   "cell_type": "code",
   "execution_count": 57,
   "id": "830c303f-5665-4cf3-9b98-e1346bcb2b8e",
   "metadata": {},
   "outputs": [],
   "source": [
    "x=df_train.loc[:,['age', 'days_since_last_login', 'avg_time_spent',\n",
    "       'avg_transaction_value', 'points_in_wallet',\n",
    "       'joining_day', 'joining_month', 'joining_year', 'last_visit_time_hour',\n",
    "       'last_visit_time_minutes', 'last_visit_time_seconds', 'gender_F',\n",
    "       'gender_M', 'region_category_Town', 'region_category_Village',\n",
    "       'membership_category_Gold Membership',\n",
    "       'membership_category_No Membership',\n",
    "       'membership_category_Platinum Membership',\n",
    "       'membership_category_Premium Membership',\n",
    "       'membership_category_Silver Membership', 'joined_through_referral_No',\n",
    "       'joined_through_referral_Yes',\n",
    "       'preferred_offer_types_Gift Vouchers/Coupons',\n",
    "       'preferred_offer_types_Without Offers', 'medium_of_operation_Both',\n",
    "       'medium_of_operation_Desktop', 'medium_of_operation_Smartphone',\n",
    "       'internet_option_Mobile_Data', 'internet_option_Wi-Fi',\n",
    "       'used_special_discount_Yes', 'offer_application_preference_Yes',\n",
    "       'past_complaint_Yes', 'feedback_Poor Customer Service',\n",
    "       'feedback_Poor Product Quality', 'feedback_Poor Website',\n",
    "       'feedback_Products always in Stock', 'feedback_Quality Customer Care',\n",
    "       'feedback_Reasonable Price', 'feedback_Too many ads',\n",
    "       'feedback_User Friendly Website']]"
   ]
  },
  {
   "cell_type": "code",
   "execution_count": 58,
   "id": "4cd9a4e1-2fb6-4084-85f4-9bc2648312dc",
   "metadata": {},
   "outputs": [
    {
     "data": {
      "text/html": [
       "<div>\n",
       "<style scoped>\n",
       "    .dataframe tbody tr th:only-of-type {\n",
       "        vertical-align: middle;\n",
       "    }\n",
       "\n",
       "    .dataframe tbody tr th {\n",
       "        vertical-align: top;\n",
       "    }\n",
       "\n",
       "    .dataframe thead th {\n",
       "        text-align: right;\n",
       "    }\n",
       "</style>\n",
       "<table border=\"1\" class=\"dataframe\">\n",
       "  <thead>\n",
       "    <tr style=\"text-align: right;\">\n",
       "      <th></th>\n",
       "      <th>churn_risk_score</th>\n",
       "    </tr>\n",
       "  </thead>\n",
       "  <tbody>\n",
       "    <tr>\n",
       "      <th>0</th>\n",
       "      <td>2</td>\n",
       "    </tr>\n",
       "    <tr>\n",
       "      <th>1</th>\n",
       "      <td>1</td>\n",
       "    </tr>\n",
       "    <tr>\n",
       "      <th>2</th>\n",
       "      <td>5</td>\n",
       "    </tr>\n",
       "    <tr>\n",
       "      <th>3</th>\n",
       "      <td>5</td>\n",
       "    </tr>\n",
       "    <tr>\n",
       "      <th>4</th>\n",
       "      <td>5</td>\n",
       "    </tr>\n",
       "  </tbody>\n",
       "</table>\n",
       "</div>"
      ],
      "text/plain": [
       "   churn_risk_score\n",
       "0                 2\n",
       "1                 1\n",
       "2                 5\n",
       "3                 5\n",
       "4                 5"
      ]
     },
     "execution_count": 58,
     "metadata": {},
     "output_type": "execute_result"
    }
   ],
   "source": [
    "y= df_train[['churn_risk_score']]\n",
    "y.head()"
   ]
  },
  {
   "cell_type": "code",
   "execution_count": 59,
   "id": "99796a76-aed2-4aad-a651-f843ac92271b",
   "metadata": {},
   "outputs": [
    {
     "name": "stderr",
     "output_type": "stream",
     "text": [
      "C:\\Users\\Hridey\\AppData\\Local\\Temp\\ipykernel_21872\\1289823182.py:3: DataConversionWarning: A column-vector y was passed when a 1d array was expected. Please change the shape of y to (n_samples,), for example using ravel().\n",
      "  selection.fit(x,y)\n"
     ]
    },
    {
     "data": {
      "text/plain": [
       "ExtraTreesRegressor()"
      ]
     },
     "execution_count": 59,
     "metadata": {},
     "output_type": "execute_result"
    }
   ],
   "source": [
    "from sklearn.ensemble import ExtraTreesRegressor\n",
    "selection = ExtraTreesRegressor()\n",
    "selection.fit(x,y)"
   ]
  },
  {
   "cell_type": "code",
   "execution_count": 60,
   "id": "c6e35295-1640-41a6-89c9-7d27ce630c33",
   "metadata": {},
   "outputs": [
    {
     "name": "stdout",
     "output_type": "stream",
     "text": [
      "[0.0238151  0.02061709 0.02548977 0.0829832  0.06674759 0.02404655\n",
      " 0.02343988 0.01418821 0.02352834 0.02375456 0.02474065 0.00585308\n",
      " 0.00603905 0.01088175 0.00722262 0.03142355 0.13479432 0.03841185\n",
      " 0.03123738 0.05556884 0.00831106 0.00902813 0.00965901 0.00972803\n",
      " 0.00605647 0.00828007 0.00816982 0.0088495  0.00973125 0.00815488\n",
      " 0.00701891 0.01151218 0.00809108 0.00809472 0.00670018 0.04764793\n",
      " 0.05102224 0.04593554 0.00774078 0.04548481]\n"
     ]
    }
   ],
   "source": [
    "print(selection.feature_importances_)"
   ]
  },
  {
   "cell_type": "code",
   "execution_count": 61,
   "id": "a1b42e3e-2eee-4d2b-b32e-a120182055ac",
   "metadata": {},
   "outputs": [
    {
     "data": {
      "image/png": "[encoded data removed]",
      "text/plain": [
       "<Figure size 864x576 with 1 Axes>"
      ]
     },
     "metadata": {
      "needs_background": "light"
     },
     "output_type": "display_data"
    }
   ],
   "source": [
    "plt.figure(figsize = (12,8))\n",
    "feat_importances = pd.Series(selection.feature_importances_, index=x.columns)\n",
    "feat_importances.nlargest(20).plot(kind='barh')\n",
    "plt.show()"
   ]
  },
  {
   "cell_type": "code",
   "execution_count": 59,
   "id": "814d7bd0-bd4c-4855-a520-5d4b06464415",
   "metadata": {},
   "outputs": [],
   "source": [
    "from sklearn.model_selection import train_test_split\n",
    "x_train, x_test, y_train, y_test = train_test_split(x,y, test_size = 0.2, random_state = 42)"
   ]
  },
  {
   "cell_type": "code",
   "execution_count": 60,
   "id": "9516ecab-0e3e-44e0-8ad8-2fb48e8a0ed4",
   "metadata": {},
   "outputs": [
    {
     "name": "stderr",
     "output_type": "stream",
     "text": [
      "C:\\Users\\Hridey\\anaconda3\\lib\\site-packages\\sklearn\\preprocessing\\_label.py:115: DataConversionWarning: A column-vector y was passed when a 1d array was expected. Please change the shape of y to (n_samples, ), for example using ravel().\n",
      "  y = column_or_1d(y, warn=True)\n"
     ]
    }
   ],
   "source": [
    "from sklearn.preprocessing import LabelEncoder\n",
    "le = LabelEncoder()\n",
    "y_train = le.fit_transform(y_train)"
   ]
  },
  {
   "cell_type": "code",
   "execution_count": 61,
   "id": "31133920-c37a-46e3-a485-c07efd638f14",
   "metadata": {},
   "outputs": [
    {
     "data": {
      "text/html": [
       "<div>\n",
       "<style scoped>\n",
       "    .dataframe tbody tr th:only-of-type {\n",
       "        vertical-align: middle;\n",
       "    }\n",
       "\n",
       "    .dataframe tbody tr th {\n",
       "        vertical-align: top;\n",
       "    }\n",
       "\n",
       "    .dataframe thead th {\n",
       "        text-align: right;\n",
       "    }\n",
       "</style>\n",
       "<table border=\"1\" class=\"dataframe\">\n",
       "  <thead>\n",
       "    <tr style=\"text-align: right;\">\n",
       "      <th></th>\n",
       "      <th>age</th>\n",
       "      <th>days_since_last_login</th>\n",
       "      <th>avg_time_spent</th>\n",
       "      <th>avg_transaction_value</th>\n",
       "      <th>points_in_wallet</th>\n",
       "      <th>joining_day</th>\n",
       "      <th>joining_month</th>\n",
       "      <th>joining_year</th>\n",
       "      <th>last_visit_time_hour</th>\n",
       "      <th>last_visit_time_minutes</th>\n",
       "      <th>...</th>\n",
       "      <th>offer_application_preference_Yes</th>\n",
       "      <th>past_complaint_Yes</th>\n",
       "      <th>feedback_Poor Customer Service</th>\n",
       "      <th>feedback_Poor Product Quality</th>\n",
       "      <th>feedback_Poor Website</th>\n",
       "      <th>feedback_Products always in Stock</th>\n",
       "      <th>feedback_Quality Customer Care</th>\n",
       "      <th>feedback_Reasonable Price</th>\n",
       "      <th>feedback_Too many ads</th>\n",
       "      <th>feedback_User Friendly Website</th>\n",
       "    </tr>\n",
       "  </thead>\n",
       "  <tbody>\n",
       "    <tr>\n",
       "      <th>3313</th>\n",
       "      <td>49</td>\n",
       "      <td>2</td>\n",
       "      <td>572.770000</td>\n",
       "      <td>19641.41</td>\n",
       "      <td>600.54</td>\n",
       "      <td>26</td>\n",
       "      <td>3</td>\n",
       "      <td>2015</td>\n",
       "      <td>7</td>\n",
       "      <td>26</td>\n",
       "      <td>...</td>\n",
       "      <td>1</td>\n",
       "      <td>1</td>\n",
       "      <td>0</td>\n",
       "      <td>0</td>\n",
       "      <td>0</td>\n",
       "      <td>0</td>\n",
       "      <td>0</td>\n",
       "      <td>0</td>\n",
       "      <td>1</td>\n",
       "      <td>0</td>\n",
       "    </tr>\n",
       "    <tr>\n",
       "      <th>28260</th>\n",
       "      <td>42</td>\n",
       "      <td>16</td>\n",
       "      <td>1427.643434</td>\n",
       "      <td>48511.87</td>\n",
       "      <td>700.92</td>\n",
       "      <td>2</td>\n",
       "      <td>10</td>\n",
       "      <td>2015</td>\n",
       "      <td>11</td>\n",
       "      <td>43</td>\n",
       "      <td>...</td>\n",
       "      <td>1</td>\n",
       "      <td>1</td>\n",
       "      <td>1</td>\n",
       "      <td>0</td>\n",
       "      <td>0</td>\n",
       "      <td>0</td>\n",
       "      <td>0</td>\n",
       "      <td>0</td>\n",
       "      <td>0</td>\n",
       "      <td>0</td>\n",
       "    </tr>\n",
       "    <tr>\n",
       "      <th>31412</th>\n",
       "      <td>10</td>\n",
       "      <td>-999</td>\n",
       "      <td>-779.419727</td>\n",
       "      <td>46612.57</td>\n",
       "      <td>744.65</td>\n",
       "      <td>8</td>\n",
       "      <td>4</td>\n",
       "      <td>2016</td>\n",
       "      <td>2</td>\n",
       "      <td>41</td>\n",
       "      <td>...</td>\n",
       "      <td>1</td>\n",
       "      <td>1</td>\n",
       "      <td>0</td>\n",
       "      <td>0</td>\n",
       "      <td>0</td>\n",
       "      <td>0</td>\n",
       "      <td>0</td>\n",
       "      <td>0</td>\n",
       "      <td>1</td>\n",
       "      <td>0</td>\n",
       "    </tr>\n",
       "    <tr>\n",
       "      <th>6700</th>\n",
       "      <td>12</td>\n",
       "      <td>9</td>\n",
       "      <td>245.010000</td>\n",
       "      <td>95291.95</td>\n",
       "      <td>697.62</td>\n",
       "      <td>23</td>\n",
       "      <td>2</td>\n",
       "      <td>2016</td>\n",
       "      <td>15</td>\n",
       "      <td>29</td>\n",
       "      <td>...</td>\n",
       "      <td>0</td>\n",
       "      <td>1</td>\n",
       "      <td>0</td>\n",
       "      <td>0</td>\n",
       "      <td>0</td>\n",
       "      <td>0</td>\n",
       "      <td>0</td>\n",
       "      <td>1</td>\n",
       "      <td>0</td>\n",
       "      <td>0</td>\n",
       "    </tr>\n",
       "    <tr>\n",
       "      <th>31958</th>\n",
       "      <td>28</td>\n",
       "      <td>14</td>\n",
       "      <td>308.770000</td>\n",
       "      <td>45564.89</td>\n",
       "      <td>716.28</td>\n",
       "      <td>2</td>\n",
       "      <td>1</td>\n",
       "      <td>2017</td>\n",
       "      <td>10</td>\n",
       "      <td>59</td>\n",
       "      <td>...</td>\n",
       "      <td>0</td>\n",
       "      <td>1</td>\n",
       "      <td>0</td>\n",
       "      <td>0</td>\n",
       "      <td>1</td>\n",
       "      <td>0</td>\n",
       "      <td>0</td>\n",
       "      <td>0</td>\n",
       "      <td>0</td>\n",
       "      <td>0</td>\n",
       "    </tr>\n",
       "  </tbody>\n",
       "</table>\n",
       "<p>5 rows × 40 columns</p>\n",
       "</div>"
      ],
      "text/plain": [
       "       age  days_since_last_login  avg_time_spent  avg_transaction_value  \\\n",
       "3313    49                      2      572.770000               19641.41   \n",
       "28260   42                     16     1427.643434               48511.87   \n",
       "31412   10                   -999     -779.419727               46612.57   \n",
       "6700    12                      9      245.010000               95291.95   \n",
       "31958   28                     14      308.770000               45564.89   \n",
       "\n",
       "       points_in_wallet  joining_day  joining_month  joining_year  \\\n",
       "3313             600.54           26              3          2015   \n",
       "28260            700.92            2             10          2015   \n",
       "31412            744.65            8              4          2016   \n",
       "6700             697.62           23              2          2016   \n",
       "31958            716.28            2              1          2017   \n",
       "\n",
       "       last_visit_time_hour  last_visit_time_minutes  ...  \\\n",
       "3313                      7                       26  ...   \n",
       "28260                    11                       43  ...   \n",
       "31412                     2                       41  ...   \n",
       "6700                     15                       29  ...   \n",
       "31958                    10                       59  ...   \n",
       "\n",
       "       offer_application_preference_Yes  past_complaint_Yes  \\\n",
       "3313                                  1                   1   \n",
       "28260                                 1                   1   \n",
       "31412                                 1                   1   \n",
       "6700                                  0                   1   \n",
       "31958                                 0                   1   \n",
       "\n",
       "       feedback_Poor Customer Service  feedback_Poor Product Quality  \\\n",
       "3313                                0                              0   \n",
       "28260                               1                              0   \n",
       "31412                               0                              0   \n",
       "6700                                0                              0   \n",
       "31958                               0                              0   \n",
       "\n",
       "       feedback_Poor Website  feedback_Products always in Stock  \\\n",
       "3313                       0                                  0   \n",
       "28260                      0                                  0   \n",
       "31412                      0                                  0   \n",
       "6700                       0                                  0   \n",
       "31958                      1                                  0   \n",
       "\n",
       "       feedback_Quality Customer Care  feedback_Reasonable Price  \\\n",
       "3313                                0                          0   \n",
       "28260                               0                          0   \n",
       "31412                               0                          0   \n",
       "6700                                0                          1   \n",
       "31958                               0                          0   \n",
       "\n",
       "       feedback_Too many ads  feedback_User Friendly Website  \n",
       "3313                       1                               0  \n",
       "28260                      0                               0  \n",
       "31412                      1                               0  \n",
       "6700                       0                               0  \n",
       "31958                      0                               0  \n",
       "\n",
       "[5 rows x 40 columns]"
      ]
     },
     "execution_count": 61,
     "metadata": {},
     "output_type": "execute_result"
    }
   ],
   "source": [
    "x_train.head()"
   ]
  },
  {
   "cell_type": "code",
   "execution_count": 66,
   "id": "56214e17-854e-424b-bc71-a33d38baae8a",
   "metadata": {},
   "outputs": [
    {
     "name": "stderr",
     "output_type": "stream",
     "text": [
      "C:\\Users\\Hridey\\AppData\\Local\\Temp\\ipykernel_4432\\2782890027.py:3: DataConversionWarning: A column-vector y was passed when a 1d array was expected. Please change the shape of y to (n_samples,), for example using ravel().\n",
      "  rf.fit(x_train, y_train)\n"
     ]
    },
    {
     "data": {
      "text/plain": [
       "RandomForestClassifier()"
      ]
     },
     "execution_count": 66,
     "metadata": {},
     "output_type": "execute_result"
    }
   ],
   "source": [
    "from sklearn.ensemble import RandomForestClassifier\n",
    "rf = RandomForestClassifier()\n",
    "rf.fit(x_train, y_train)"
   ]
  },
  {
   "cell_type": "code",
   "execution_count": 67,
   "id": "b9d838d4-ca88-48b2-a3a2-eb9c22c66f67",
   "metadata": {},
   "outputs": [
    {
     "name": "stdout",
     "output_type": "stream",
     "text": [
      "training accuracy is :  100.0\n"
     ]
    }
   ],
   "source": [
    "print(\"training accuracy is : \", rf.score(x_train, y_train)*100)"
   ]
  },
  {
   "cell_type": "code",
   "execution_count": 68,
   "id": "ae85b07f-8966-4589-a55b-b9f2d26ed3df",
   "metadata": {},
   "outputs": [
    {
     "name": "stdout",
     "output_type": "stream",
     "text": [
      "testing accuracy is :  74.91552912555751\n"
     ]
    }
   ],
   "source": [
    "\n",
    "print(\"testing accuracy is : \", rf.score(x_test, y_test)*100)\n"
   ]
  },
  {
   "cell_type": "code",
   "execution_count": 69,
   "id": "e1d7be0c-1283-4859-b3c6-a2a5c3e7195e",
   "metadata": {},
   "outputs": [
    {
     "data": {
      "text/plain": [
       "DecisionTreeClassifier()"
      ]
     },
     "execution_count": 69,
     "metadata": {},
     "output_type": "execute_result"
    }
   ],
   "source": [
    "from sklearn.tree import DecisionTreeClassifier\n",
    "model = DecisionTreeClassifier()\n",
    "model.fit(x_train, y_train)"
   ]
  },
  {
   "cell_type": "code",
   "execution_count": 70,
   "id": "9279a894-d616-4042-b6df-bd71262cc49f",
   "metadata": {},
   "outputs": [
    {
     "name": "stdout",
     "output_type": "stream",
     "text": [
      "testing accuracy is :  70.38789025543993\n"
     ]
    }
   ],
   "source": [
    "print(\"testing accuracy is : \", model.score(x_test, y_test)*100)"
   ]
  },
  {
   "cell_type": "code",
   "execution_count": 72,
   "id": "2ac02b9c-0758-42df-a2b4-07fa7f248eb7",
   "metadata": {},
   "outputs": [
    {
     "name": "stdout",
     "output_type": "stream",
     "text": [
      "Collecting xgboost\n",
      "  Downloading xgboost-1.6.2-py3-none-win_amd64.whl (125.4 MB)\n",
      "Requirement already satisfied: scipy in c:\\users\\hridey\\anaconda3\\lib\\site-packages (from xgboost) (1.7.3)\n",
      "Requirement already satisfied: numpy in c:\\users\\hridey\\anaconda3\\lib\\site-packages (from xgboost) (1.21.5)\n",
      "Installing collected packages: xgboost\n",
      "Successfully installed xgboost-1.6.2\n"
     ]
    }
   ],
   "source": [
    "!pip install xgboost"
   ]
  },
  {
   "cell_type": "code",
   "execution_count": 62,
   "id": "b06746f2-5c67-4fa9-a77e-0f2eaff145da",
   "metadata": {},
   "outputs": [
    {
     "data": {
      "text/plain": [
       "XGBClassifier(base_score=0.5, booster='gbtree', callbacks=None,\n",
       "              colsample_bylevel=1, colsample_bynode=1, colsample_bytree=1,\n",
       "              early_stopping_rounds=None, enable_categorical=False,\n",
       "              eval_metric=None, gamma=0, gpu_id=-1, grow_policy='depthwise',\n",
       "              importance_type=None, interaction_constraints='',\n",
       "              learning_rate=0.300000012, max_bin=256, max_cat_to_onehot=4,\n",
       "              max_delta_step=0, max_depth=6, max_leaves=0, min_child_weight=1,\n",
       "              missing=nan, monotone_constraints='()', n_estimators=100,\n",
       "              n_jobs=0, num_parallel_tree=1, objective='multi:softprob',\n",
       "              predictor='auto', random_state=0, reg_alpha=0, ...)"
      ]
     },
     "execution_count": 62,
     "metadata": {},
     "output_type": "execute_result"
    }
   ],
   "source": [
    "from xgboost import XGBClassifier\n",
    "xg = XGBClassifier(objective='binary:logistic')\n",
    "xg.fit(x_train, y_train)"
   ]
  },
  {
   "cell_type": "code",
   "execution_count": 63,
   "id": "f61fde8d-769c-42ff-9c74-e469053fc793",
   "metadata": {},
   "outputs": [
    {
     "name": "stdout",
     "output_type": "stream",
     "text": [
      "training accuracy is :  93.26529922616835\n"
     ]
    }
   ],
   "source": [
    "print(\"training accuracy is : \", xg.score(x_train, y_train)*100)"
   ]
  },
  {
   "cell_type": "code",
   "execution_count": 64,
   "id": "5f2de8a3-b9ed-4d41-9f88-dfd76b72b85f",
   "metadata": {},
   "outputs": [
    {
     "name": "stdout",
     "output_type": "stream",
     "text": [
      "testing accuracy is :  75.45614272198947\n"
     ]
    }
   ],
   "source": [
    "print(\"testing accuracy is : \", xg.score(x_test, y_test)*100)"
   ]
  },
  {
   "cell_type": "code",
   "execution_count": 65,
   "id": "a0d39210-f21d-4dc3-9a7d-b2f141654877",
   "metadata": {},
   "outputs": [],
   "source": [
    "from sklearn.model_selection import RandomizedSearchCV"
   ]
  },
  {
   "cell_type": "code",
   "execution_count": 83,
   "id": "6f10e84a-3d6d-4cf6-be16-06e514deb442",
   "metadata": {},
   "outputs": [],
   "source": [
    "param_grid={\n",
    "    'learning_rate':[1,0.5,0.1,0.01],\n",
    "    'max_depth':[3,5,10,20],\n",
    "    'n_estimators':[10,50,100,200]\n",
    "}"
   ]
  },
  {
   "cell_type": "code",
   "execution_count": 85,
   "id": "5ee09f5d-2f88-4d72-87f1-2861f336ad83",
   "metadata": {},
   "outputs": [
    {
     "name": "stdout",
     "output_type": "stream",
     "text": [
      "Fitting 5 folds for each of 10 candidates, totalling 50 fits\n",
      "[CV 1/5] END learning_rate=0.01, max_depth=20, n_estimators=10;, score=0.745 total time=   4.3s\n",
      "[CV 2/5] END learning_rate=0.01, max_depth=20, n_estimators=10;, score=0.745 total time=   4.1s\n",
      "[CV 3/5] END learning_rate=0.01, max_depth=20, n_estimators=10;, score=0.746 total time=   4.1s\n",
      "[CV 4/5] END learning_rate=0.01, max_depth=20, n_estimators=10;, score=0.735 total time=   4.2s\n",
      "[CV 5/5] END learning_rate=0.01, max_depth=20, n_estimators=10;, score=0.750 total time=   4.3s\n",
      "[CV 1/5] END learning_rate=0.5, max_depth=3, n_estimators=50;, score=0.754 total time=   3.2s\n",
      "[CV 2/5] END learning_rate=0.5, max_depth=3, n_estimators=50;, score=0.759 total time=   3.3s\n",
      "[CV 3/5] END learning_rate=0.5, max_depth=3, n_estimators=50;, score=0.761 total time=   3.3s\n",
      "[CV 4/5] END learning_rate=0.5, max_depth=3, n_estimators=50;, score=0.758 total time=   3.2s\n",
      "[CV 5/5] END learning_rate=0.5, max_depth=3, n_estimators=50;, score=0.764 total time=   3.3s\n",
      "[CV 1/5] END learning_rate=0.01, max_depth=3, n_estimators=10;, score=0.672 total time=   0.7s\n",
      "[CV 2/5] END learning_rate=0.01, max_depth=3, n_estimators=10;, score=0.664 total time=   0.7s\n",
      "[CV 3/5] END learning_rate=0.01, max_depth=3, n_estimators=10;, score=0.670 total time=   0.6s\n",
      "[CV 4/5] END learning_rate=0.01, max_depth=3, n_estimators=10;, score=0.677 total time=   0.7s\n",
      "[CV 5/5] END learning_rate=0.01, max_depth=3, n_estimators=10;, score=0.669 total time=   0.7s\n",
      "[CV 1/5] END learning_rate=1, max_depth=20, n_estimators=10;, score=0.745 total time=   4.2s\n",
      "[CV 2/5] END learning_rate=1, max_depth=20, n_estimators=10;, score=0.749 total time=   4.4s\n",
      "[CV 3/5] END learning_rate=1, max_depth=20, n_estimators=10;, score=0.749 total time=   4.3s\n",
      "[CV 4/5] END learning_rate=1, max_depth=20, n_estimators=10;, score=0.751 total time=   4.2s\n",
      "[CV 5/5] END learning_rate=1, max_depth=20, n_estimators=10;, score=0.746 total time=   4.3s\n",
      "[CV 1/5] END learning_rate=0.5, max_depth=3, n_estimators=10;, score=0.754 total time=   0.6s\n",
      "[CV 2/5] END learning_rate=0.5, max_depth=3, n_estimators=10;, score=0.740 total time=   0.8s\n",
      "[CV 3/5] END learning_rate=0.5, max_depth=3, n_estimators=10;, score=0.738 total time=   0.7s\n",
      "[CV 4/5] END learning_rate=0.5, max_depth=3, n_estimators=10;, score=0.745 total time=   0.7s\n",
      "[CV 5/5] END learning_rate=0.5, max_depth=3, n_estimators=10;, score=0.749 total time=   0.7s\n",
      "[CV 1/5] END learning_rate=0.01, max_depth=5, n_estimators=50;, score=0.739 total time=   5.5s\n",
      "[CV 2/5] END learning_rate=0.01, max_depth=5, n_estimators=50;, score=0.743 total time=   5.3s\n",
      "[CV 3/5] END learning_rate=0.01, max_depth=5, n_estimators=50;, score=0.744 total time=   5.5s\n",
      "[CV 4/5] END learning_rate=0.01, max_depth=5, n_estimators=50;, score=0.743 total time=   5.5s\n",
      "[CV 5/5] END learning_rate=0.01, max_depth=5, n_estimators=50;, score=0.750 total time=   5.5s\n",
      "[CV 1/5] END learning_rate=0.1, max_depth=20, n_estimators=50;, score=0.747 total time=  22.9s\n",
      "[CV 2/5] END learning_rate=0.1, max_depth=20, n_estimators=50;, score=0.751 total time=  22.5s\n",
      "[CV 3/5] END learning_rate=0.1, max_depth=20, n_estimators=50;, score=0.750 total time=  22.5s\n",
      "[CV 4/5] END learning_rate=0.1, max_depth=20, n_estimators=50;, score=0.747 total time=  21.8s\n",
      "[CV 5/5] END learning_rate=0.1, max_depth=20, n_estimators=50;, score=0.759 total time=  22.0s\n",
      "[CV 1/5] END learning_rate=0.1, max_depth=3, n_estimators=10;, score=0.671 total time=   0.7s\n",
      "[CV 2/5] END learning_rate=0.1, max_depth=3, n_estimators=10;, score=0.668 total time=   0.7s\n",
      "[CV 3/5] END learning_rate=0.1, max_depth=3, n_estimators=10;, score=0.674 total time=   0.7s\n",
      "[CV 4/5] END learning_rate=0.1, max_depth=3, n_estimators=10;, score=0.677 total time=   0.7s\n",
      "[CV 5/5] END learning_rate=0.1, max_depth=3, n_estimators=10;, score=0.680 total time=   0.7s\n",
      "[CV 1/5] END learning_rate=1, max_depth=20, n_estimators=50;, score=0.747 total time=  15.3s\n",
      "[CV 2/5] END learning_rate=1, max_depth=20, n_estimators=50;, score=0.752 total time=  15.3s\n",
      "[CV 3/5] END learning_rate=1, max_depth=20, n_estimators=50;, score=0.746 total time=  15.5s\n",
      "[CV 4/5] END learning_rate=1, max_depth=20, n_estimators=50;, score=0.755 total time=  15.5s\n",
      "[CV 5/5] END learning_rate=1, max_depth=20, n_estimators=50;, score=0.744 total time=  15.8s\n",
      "[CV 1/5] END learning_rate=1, max_depth=10, n_estimators=200;, score=0.746 total time=  36.5s\n",
      "[CV 2/5] END learning_rate=1, max_depth=10, n_estimators=200;, score=0.749 total time=  36.8s\n",
      "[CV 3/5] END learning_rate=1, max_depth=10, n_estimators=200;, score=0.747 total time=  36.2s\n",
      "[CV 4/5] END learning_rate=1, max_depth=10, n_estimators=200;, score=0.749 total time=  36.6s\n",
      "[CV 5/5] END learning_rate=1, max_depth=10, n_estimators=200;, score=0.749 total time=  36.3s\n"
     ]
    },
    {
     "data": {
      "text/plain": [
       "RandomizedSearchCV(estimator=XGBClassifier(base_score=None, booster=None,\n",
       "                                           callbacks=None,\n",
       "                                           colsample_bylevel=None,\n",
       "                                           colsample_bynode=None,\n",
       "                                           colsample_bytree=None,\n",
       "                                           early_stopping_rounds=None,\n",
       "                                           enable_categorical=False,\n",
       "                                           eval_metric=None, gamma=None,\n",
       "                                           gpu_id=None, grow_policy=None,\n",
       "                                           importance_type=None,\n",
       "                                           interaction_constraints=None,\n",
       "                                           learning_rate=None, max_bin=None,\n",
       "                                           max_c...\n",
       "                                           max_delta_step=None, max_depth=None,\n",
       "                                           max_leaves=None,\n",
       "                                           min_child_weight=None, missing=nan,\n",
       "                                           monotone_constraints=None,\n",
       "                                           n_estimators=100, n_jobs=None,\n",
       "                                           num_parallel_tree=None,\n",
       "                                           predictor=None, random_state=None,\n",
       "                                           reg_alpha=None, reg_lambda=None, ...),\n",
       "                   param_distributions={'learning_rate': [1, 0.5, 0.1, 0.01],\n",
       "                                        'max_depth': [3, 5, 10, 20],\n",
       "                                        'n_estimators': [10, 50, 100, 200]},\n",
       "                   verbose=3)"
      ]
     },
     "execution_count": 85,
     "metadata": {},
     "output_type": "execute_result"
    }
   ],
   "source": [
    "grid = RandomizedSearchCV(XGBClassifier(objective='binary:logistic'), param_grid, verbose=3)\n",
    "grid.fit(x_train, y_train)"
   ]
  },
  {
   "cell_type": "code",
   "execution_count": 86,
   "id": "6a79cc6e-d8b0-48d1-84f7-fd5b68396eb9",
   "metadata": {},
   "outputs": [
    {
     "data": {
      "text/plain": [
       "{'n_estimators': 50, 'max_depth': 3, 'learning_rate': 0.5}"
      ]
     },
     "execution_count": 86,
     "metadata": {},
     "output_type": "execute_result"
    }
   ],
   "source": [
    "grid.best_params_"
   ]
  },
  {
   "cell_type": "code",
   "execution_count": 66,
   "id": "dec2f316-eb56-4d73-8db6-2e3fa48fcd46",
   "metadata": {},
   "outputs": [
    {
     "data": {
      "text/plain": [
       "XGBClassifier(base_score=0.5, booster='gbtree', callbacks=None,\n",
       "              colsample_bylevel=1, colsample_bynode=1, colsample_bytree=1,\n",
       "              early_stopping_rounds=None, enable_categorical=False,\n",
       "              eval_metric=None, gamma=0, gpu_id=-1, grow_policy='depthwise',\n",
       "              importance_type=None, interaction_constraints='',\n",
       "              learning_rate=0.5, max_bin=256, max_cat_to_onehot=4,\n",
       "              max_delta_step=0, max_depth=3, max_leaves=0, min_child_weight=1,\n",
       "              missing=nan, monotone_constraints='()', n_estimators=50, n_jobs=0,\n",
       "              num_parallel_tree=1, objective='multi:softprob', predictor='auto',\n",
       "              random_state=0, reg_alpha=0, ...)"
      ]
     },
     "execution_count": 66,
     "metadata": {},
     "output_type": "execute_result"
    }
   ],
   "source": [
    "xg = XGBClassifier(n_estimators=50, max_depth=3, learning_rate=0.5)\n",
    "xg.fit(x_train, y_train)"
   ]
  },
  {
   "cell_type": "code",
   "execution_count": 67,
   "id": "6fbb7f6a-4e87-496e-a210-dae7e6a5620a",
   "metadata": {},
   "outputs": [
    {
     "name": "stdout",
     "output_type": "stream",
     "text": [
      "testing accuracy is :  76.19948641708338\n"
     ]
    }
   ],
   "source": [
    "print(\"testing accuracy is : \", xg.score(x_test, y_test)*100)"
   ]
  },
  {
   "cell_type": "code",
   "execution_count": 70,
   "id": "fe5211fa-02b7-4535-bd14-e23e5e202116",
   "metadata": {},
   "outputs": [],
   "source": [
    "import pickle\n",
    "file = 'xgboost_model.pkl'\n",
    "pickle.dump(xg, open(file, 'wb'))"
   ]
  },
  {
   "cell_type": "code",
   "execution_count": 71,
   "id": "203fda15-eba2-41a4-b329-7cdca5089e9a",
   "metadata": {},
   "outputs": [
    {
     "data": {
      "text/plain": [
       "array([1, 4, 5, ..., 3, 3, 4], dtype=int64)"
      ]
     },
     "execution_count": 71,
     "metadata": {},
     "output_type": "execute_result"
    }
   ],
   "source": [
    "load_model = pickle.load(open(file, 'rb'))\n",
    "y_prep = load_model.predict(x_test)\n",
    "y_prep\n"
   ]
  },
  {
   "cell_type": "code",
   "execution_count": 84,
   "id": "6ab6ece2-c81b-4211-b7e4-e4573f7d39b4",
   "metadata": {},
   "outputs": [],
   "source": [
    "import xgboost as xgb\n",
    "model = pickle.load(open('xgboost_model.pkl', 'rb'))\n"
   ]
  },
  {
   "cell_type": "code",
   "execution_count": 83,
   "id": "601d3164",
   "metadata": {},
   "outputs": [
    {
     "name": "stdout",
     "output_type": "stream",
     "text": [
      "None\n"
     ]
    }
   ],
   "source": [
    "print(model.feature_names)"
   ]
  },
  {
   "cell_type": "code",
   "execution_count": 85,
   "id": "741bedba",
   "metadata": {},
   "outputs": [
    {
     "data": {
      "text/plain": [
       "array([1, 4, 5, ..., 3, 3, 4], dtype=int64)"
      ]
     },
     "execution_count": 85,
     "metadata": {},
     "output_type": "execute_result"
    }
   ],
   "source": [
    "model.predict(x_test)"
   ]
  },
  {
   "cell_type": "code",
   "execution_count": null,
   "id": "ec4c6dc9",
   "metadata": {},
   "outputs": [],
   "source": []
  }
 ],
 "metadata": {
  "kernelspec": {
   "display_name": "Python 3 (ipykernel)",
   "language": "python",
   "name": "python3"
  },
  "language_info": {
   "codemirror_mode": {
    "name": "ipython",
    "version": 3
   },
   "file_extension": ".py",
   "mimetype": "text/x-python",
   "name": "python",
   "nbconvert_exporter": "python",
   "pygments_lexer": "ipython3",
   "version": "3.9.12"
  }
 },
 "nbformat": 4,
 "nbformat_minor": 5
}
